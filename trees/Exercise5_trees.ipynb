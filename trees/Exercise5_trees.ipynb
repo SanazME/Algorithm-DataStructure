{
 "cells": [
  {
   "cell_type": "markdown",
   "metadata": {},
   "source": [
    "### Trees\n",
    "https://bradfieldcs.com/algos/trees/representing-a-tree/\n",
    "\n",
    "http://interactivepython.org/runestone/static/pythonds/Trees/ListofListsRepresentation.html\n",
    "\n",
    "** 1. List of Lists Representation:**\n",
    "One very nice property of this list of lists approach is that the structure of a list representing a subtree adheres to the structure defined for a tree; the structure itself is recursive! A subtree that has a root value and two empty lists is a leaf node. Another nice feature of the list of lists approach is that it generalizes to a tree that has many subtrees. In the case where the tree is more than a binary tree, another subtree is just another list."
   ]
  },
  {
   "cell_type": "code",
   "execution_count": 1,
   "metadata": {},
   "outputs": [
    {
     "name": "stdout",
     "output_type": "stream",
     "text": [
      "['a', ['b', ['d', [], []], ['e', [], []]], ['c', ['f', [], []], []]]\n",
      "root : a\n",
      "left subtree:  ['b', ['d', [], []], ['e', [], []]]\n",
      "right subtree:  ['c', ['f', [], []], []]\n"
     ]
    }
   ],
   "source": [
    "# [root,[left_subtree], [right_subtree]]\n",
    "# [root,[],[]]  => leaf node\n",
    "\n",
    "my_tree = ['a', #root\n",
    "           ['b', #left subtree\n",
    "            ['d',[],[]],\n",
    "            ['e',[],[]]],\n",
    "           ['c', #right subtree\n",
    "            ['f',[],[]],\n",
    "            []]]\n",
    "print(my_tree )      \n",
    "print('root :', my_tree[0])\n",
    "print('left subtree: ',my_tree[1])\n",
    "print('right subtree: ',my_tree[2])"
   ]
  },
  {
   "cell_type": "code",
   "execution_count": 8,
   "metadata": {},
   "outputs": [],
   "source": [
    "def BinaryTree(root_node):\n",
    "    return [root_node,[],[]]\n",
    "\n",
    "\n",
    "\"\"\"To add a left subtree to the root of a tree, we need to insert a new list into\n",
    "the second position of the root list. We must be careful. If the list already has \n",
    "something in the second position, we need to keep track of it and push it down the\n",
    "tree as the left child of the list we are adding.\"\"\"\n",
    "\n",
    "def insertLeft(root, newBranch):\n",
    "    subtree = root.pop(1)\n",
    "    if len(subtree) > 1:  #[[]]\n",
    "        root.insert(1,[newBranch,subtree,[]])\n",
    "    else: # A leaf node\n",
    "        root.insert(1,[newBranch,[],[]])\n",
    "    return root\n",
    "        \n",
    "        \n",
    "def insertRight(root,newBranch):\n",
    "    subtree=root.pop(2)\n",
    "    \n",
    "    if len(subtree) > 1:\n",
    "        root.insert(2, [newBranch, [], subtree])\n",
    "    else:\n",
    "        root.insert(2,[newBranch,[],[]])\n",
    "    return root\n",
    "\n",
    "def getRootValue(root):\n",
    "    return root[0]\n",
    "\n",
    "def setRootValue(root,newVal):\n",
    "    root[0] = newVal\n",
    "    \n",
    "def getLeftChild(root):\n",
    "    return root[1]\n",
    "\n",
    "def getRightChild(root):\n",
    "    return root[2]"
   ]
  },
  {
   "cell_type": "markdown",
   "metadata": {},
   "source": [
    "Notice that to insert a left child, we first obtain the (possibly empty) list that corresponds to the current left child. We then add the new left child, installing the old left child as the left child of the new one. T"
   ]
  },
  {
   "cell_type": "code",
   "execution_count": 9,
   "metadata": {},
   "outputs": [
    {
     "name": "stdout",
     "output_type": "stream",
     "text": [
      "[3, [], []]\n",
      "[5, [4, [], []], []]\n"
     ]
    }
   ],
   "source": [
    "tree = BinaryTree(3)\n",
    "print(tree)\n",
    "insertLeft(tree,4)\n",
    "insertLeft(tree,5)\n",
    "insertRight(tree,6)\n",
    "insertRight(tree,7)\n",
    "print(getLeftChild(tree))"
   ]
  },
  {
   "cell_type": "code",
   "execution_count": 10,
   "metadata": {},
   "outputs": [
    {
     "name": "stdout",
     "output_type": "stream",
     "text": [
      "9\n"
     ]
    },
    {
     "data": {
      "text/plain": [
       "[9, [11, [5, [4, [], []], []], []], [7, [], [6, [], []]]]"
      ]
     },
     "execution_count": 10,
     "metadata": {},
     "output_type": "execute_result"
    }
   ],
   "source": [
    "setRootValue(tree,9)\n",
    "print(getRootValue(tree))\n",
    "insertLeft(tree,11)"
   ]
  },
  {
   "cell_type": "code",
   "execution_count": 11,
   "metadata": {},
   "outputs": [
    {
     "name": "stdout",
     "output_type": "stream",
     "text": [
      "[6, [], []]\n"
     ]
    }
   ],
   "source": [
    "print(getRightChild(getRightChild(tree)))"
   ]
  },
  {
   "cell_type": "code",
   "execution_count": 12,
   "metadata": {},
   "outputs": [
    {
     "name": "stdout",
     "output_type": "stream",
     "text": [
      "['a', [], []]\n",
      "['a', ['b', [], []], []]\n",
      "['a', ['b', [], []], ['c', [], []]]\n",
      "['a', ['b', [], []], ['c', [], ['d', [], []]]]\n",
      "['a', ['b', [], []], ['c', [], ['d', ['e', [], []], []]]]\n"
     ]
    }
   ],
   "source": [
    "x = BinaryTree('a')\n",
    "print(x)\n",
    "insertLeft(x,'b')\n",
    "print(x)\n",
    "insertRight(x,'c')\n",
    "print(x)\n",
    "insertRight(getRightChild(x),'d')\n",
    "print(x)\n",
    "insertLeft(getRightChild(getRightChild(x)),'e')\n",
    "print(x)"
   ]
  },
  {
   "cell_type": "code",
   "execution_count": 14,
   "metadata": {},
   "outputs": [
    {
     "name": "stdout",
     "output_type": "stream",
     "text": [
      "['a', ['b', [], ['d', [], []]], ['c', ['e', [], []], ['f', [], []]]]\n"
     ]
    }
   ],
   "source": [
    "y= BinaryTree('a')\n",
    "insertLeft(y,'b')\n",
    "insertRight(y,'c')\n",
    "insertLeft(getRightChild(y), 'e')\n",
    "insertRight(getRightChild(y),'f')\n",
    "insertRight(getLeftChild(y), 'd')\n",
    "print(y)"
   ]
  },
  {
   "cell_type": "markdown",
   "metadata": {},
   "source": [
    "**2. Nodes and references representation:**\n",
    "Our first method to represent a tree uses instances of a Node class along with references between node instances. Using nodes and references, we might think of this tree as being structured like:\n",
    "http://interactivepython.org/runestone/static/pythonds/Trees/NodesandReferences.html\n",
    "\n",
    "![title](treerecs.png)\n",
    "We will start out with a simple class definition for the nodes and references approach as shown below. In this case we will consider binary trees, so will directly reference left and right nodes. For trees where nodes may have more than two children, a children list could be used to contain these references instead."
   ]
  },
  {
   "cell_type": "code",
   "execution_count": 16,
   "metadata": {},
   "outputs": [],
   "source": [
    "class Node(object):\n",
    "    def __init__(self,rootObj):\n",
    "        self.key = rootObj\n",
    "        self.leftChild = None\n",
    "        self.rightChild = None\n",
    "               \n",
    "    def insertLeft(self,newNode):\n",
    "        if self.leftChild is None:\n",
    "            #self.leftChild = newNode\n",
    "            #OR\n",
    "            self.leftChild = Node(newNode)\n",
    "        else:\n",
    "            t = Node(newNode)\n",
    "            t.leftChild = self.leftChild\n",
    "            self.leftChild = t\n",
    "            \n",
    "    def insertRight(self, newNode):\n",
    "        if self.rightChild is None:\n",
    "            self.rightChild = Node(newNode)\n",
    "        else:\n",
    "            t = Node(newNode)\n",
    "            t.rightChild = self.rightChild\n",
    "            self.rightChild = t\n",
    "    # Some accessor methods\n",
    "    def getLeftChild(self):\n",
    "        return self.leftChild\n",
    "    \n",
    "    def getRightChild(self):\n",
    "        return self.rightChild\n",
    "    \n",
    "    def getRoot(self):\n",
    "        return self.key\n",
    "    \n",
    "    def setRoot(self,newKey):\n",
    "        self.key = newKey"
   ]
  },
  {
   "cell_type": "code",
   "execution_count": 17,
   "metadata": {},
   "outputs": [
    {
     "name": "stdout",
     "output_type": "stream",
     "text": [
      "a\n",
      "<__main__.Node object at 0x1094ff7f0>\n",
      "b\n",
      "<__main__.Node object at 0x1094ff9b0>\n",
      "c\n",
      "hello\n"
     ]
    }
   ],
   "source": [
    "BinaryTree = Node('a')\n",
    "print(BinaryTree.getRoot())\n",
    "BinaryTree.insertLeft('b')\n",
    "BinaryTree.insertRight('c')\n",
    "print(BinaryTree.getLeftChild())\n",
    "print(BinaryTree.getLeftChild().getRoot())\n",
    "print(BinaryTree.getRightChild())\n",
    "print(BinaryTree.getRightChild().getRoot())\n",
    "BinaryTree.getRightChild().setRoot('hello')\n",
    "print(BinaryTree.getRightChild().getRoot())"
   ]
  },
  {
   "cell_type": "markdown",
   "metadata": {},
   "source": [
    "![title](tree_ex.png)"
   ]
  },
  {
   "cell_type": "code",
   "execution_count": 18,
   "metadata": {},
   "outputs": [],
   "source": [
    "tree = Node('a')\n",
    "tree.insertLeft('b')\n",
    "tree.getLeftChild().insertRight('d')\n",
    "tree.insertRight('c')\n",
    "tree.getRightChild().insertRight('f')\n",
    "tree.getRightChild().insertLeft('e')"
   ]
  },
  {
   "cell_type": "code",
   "execution_count": 19,
   "metadata": {},
   "outputs": [
    {
     "data": {
      "text/plain": [
       "'c'"
      ]
     },
     "execution_count": 19,
     "metadata": {},
     "output_type": "execute_result"
    }
   ],
   "source": [
    "tree.getRightChild().getRoot()"
   ]
  },
  {
   "cell_type": "code",
   "execution_count": 20,
   "metadata": {},
   "outputs": [],
   "source": [
    "def buildTree(root, leftNodes, rightNodes):\n",
    "    \"\"\"\n",
    "    Inputs : root, lists of leftNodes and rightNodes\n",
    "    output : a binary tree shown above\n",
    "    \"\"\"\n",
    "    \n",
    "    tree = Node(root)\n",
    "    for node in leftNodes:\n",
    "        tree.insertLeft(node)\n",
    "    for node in rightNodes:\n",
    "        tree.insertRight(node)"
   ]
  },
  {
   "cell_type": "code",
   "execution_count": 21,
   "metadata": {},
   "outputs": [],
   "source": [
    "buildTree('a',['d','b'],[''])"
   ]
  },
  {
   "cell_type": "markdown",
   "metadata": {},
   "source": [
    "### Map-based representation\n",
    "https://bradfieldcs.com/algos/trees/representing-a-tree/"
   ]
  },
  {
   "cell_type": "code",
   "execution_count": 22,
   "metadata": {},
   "outputs": [
    {
     "data": {
      "text/plain": [
       "{'key': 'a',\n",
       " 'left': {'key': 'b', 'left': {'key': 'd'}, 'right': {'key': 'e'}},\n",
       " 'right': {'key': 'c', 'right': {'key': 'f'}}}"
      ]
     },
     "execution_count": 22,
     "metadata": {},
     "output_type": "execute_result"
    }
   ],
   "source": [
    "\"\"\"\n",
    "dic ={\n",
    "    'key':... ,\n",
    "    'left':{\n",
    "        'key': ... ,\n",
    "        'left': {...}, \n",
    "        'right' : {...}\n",
    "    },\n",
    "    'right':{\n",
    "        'key': ... ,\n",
    "        'left': {...}, \n",
    "        'right' : {...}\n",
    "    }\n",
    "}\n",
    "\"\"\"\n",
    "\n",
    "binaryTree={\n",
    "    'key':'a',\n",
    "    'left':{\n",
    "        'key':'b',\n",
    "        'left':{'key':'d'},\n",
    "        'right':{'key':'e'}       \n",
    "    },\n",
    "    \n",
    "    'right':{\n",
    "        'key':'c',\n",
    "        'right': {'key':'f'}\n",
    "    }\n",
    "}\n",
    "\n",
    "binaryTree"
   ]
  },
  {
   "cell_type": "code",
   "execution_count": 23,
   "metadata": {},
   "outputs": [],
   "source": [
    "NonBinaryTree={\n",
    "    'key':'a',\n",
    "    'children':[\n",
    "        {\n",
    "        'key':'b',\n",
    "        'children':[{'key':'d'},\n",
    "                    {'key':'e'},\n",
    "                   ]           \n",
    "        },\n",
    "        {\n",
    "        'key':'c',\n",
    "        'children':[\n",
    "            {'key':'f'},\n",
    "            {'key':'g'},\n",
    "            {'key':'h'},\n",
    "        ]           \n",
    "        },\n",
    "    ]\n",
    "    \n",
    "}"
   ]
  },
  {
   "cell_type": "code",
   "execution_count": 24,
   "metadata": {},
   "outputs": [
    {
     "data": {
      "text/plain": [
       "{'children': [{'children': [{'key': 'd'}, {'key': 'e'}], 'key': 'b'},\n",
       "  {'children': [{'key': 'f'}, {'key': 'g'}, {'key': 'h'}], 'key': 'c'}],\n",
       " 'key': 'a'}"
      ]
     },
     "execution_count": 24,
     "metadata": {},
     "output_type": "execute_result"
    }
   ],
   "source": [
    "NonBinaryTree"
   ]
  },
  {
   "cell_type": "code",
   "execution_count": 25,
   "metadata": {},
   "outputs": [],
   "source": [
    "\"\"\" Class-based approache \"\"\"\n",
    "import operator\n",
    "OPERATORS = {\n",
    "    '+':operator.add,\n",
    "    '-':operator.sub,\n",
    "    '*':operator.mul,\n",
    "    '/':operator.truediv   \n",
    "}\n",
    "\n",
    "left_paran = '('\n",
    "right_paran = ')'\n",
    "\n",
    "def pars_tree(expression):\n",
    "    expr = ''.join(expression.split())\n",
    "    \n",
    "    tree = Node('')\n",
    "    current = tree\n",
    "    stack =[]\n",
    "    stack.append(tree)\n",
    "    \n",
    "    assert(expr[0]==left_paran),\"The expression must start with (\"\n",
    "    assert(expr[-1]==right_Paran), \"The expression must end with )\"\n",
    "    \n",
    "    for token in expr:\n",
    "        if token == left_paran:\n",
    "            current.insertLeft('')\n",
    "            stack.append(current)\n",
    "            current = current.getLeftChild()\n",
    "            \n",
    "        elif token==right_paran:\n",
    "            current = stack.pop()\n",
    "                        \n",
    "        elif token in OPERATORS.keys():\n",
    "            current.setRoot(token)\n",
    "            current.insertRight('')\n",
    "            stack.append(current)\n",
    "            current = current.getRightChild()\n",
    "                        \n",
    "        elif token in '0123456789':\n",
    "            current.setRoot(int(token))\n",
    "            current=stack.pop()\n",
    "        else:\n",
    "            raise KeyError ('The expression has undefined character!')\n",
    "            \n",
    "    return tree\n",
    "            "
   ]
  },
  {
   "cell_type": "code",
   "execution_count": 26,
   "metadata": {},
   "outputs": [
    {
     "ename": "NameError",
     "evalue": "name 'right_Paran' is not defined",
     "output_type": "error",
     "traceback": [
      "\u001b[0;31m---------------------------------------------------------------------------\u001b[0m",
      "\u001b[0;31mNameError\u001b[0m                                 Traceback (most recent call last)",
      "\u001b[0;32m<ipython-input-26-21993c5d1d29>\u001b[0m in \u001b[0;36m<module>\u001b[0;34m\u001b[0m\n\u001b[0;32m----> 1\u001b[0;31m \u001b[0mresult\u001b[0m \u001b[0;34m=\u001b[0m \u001b[0mpars_tree\u001b[0m\u001b[0;34m(\u001b[0m\u001b[0;34m'( 4 + 5 ) * ( 6 / 7 )'\u001b[0m\u001b[0;34m)\u001b[0m\u001b[0;34m\u001b[0m\u001b[0m\n\u001b[0m\u001b[1;32m      2\u001b[0m \u001b[0mresult\u001b[0m\u001b[0;34m.\u001b[0m\u001b[0mgetRoot\u001b[0m\u001b[0;34m(\u001b[0m\u001b[0;34m)\u001b[0m\u001b[0;34m\u001b[0m\u001b[0m\n",
      "\u001b[0;32m<ipython-input-25-2213a489357c>\u001b[0m in \u001b[0;36mpars_tree\u001b[0;34m(expression)\u001b[0m\n\u001b[1;32m     20\u001b[0m \u001b[0;34m\u001b[0m\u001b[0m\n\u001b[1;32m     21\u001b[0m     \u001b[0;32massert\u001b[0m\u001b[0;34m(\u001b[0m\u001b[0mexpr\u001b[0m\u001b[0;34m[\u001b[0m\u001b[0;36m0\u001b[0m\u001b[0;34m]\u001b[0m\u001b[0;34m==\u001b[0m\u001b[0mleft_paran\u001b[0m\u001b[0;34m)\u001b[0m\u001b[0;34m,\u001b[0m\u001b[0;34m\"The expression must start with (\"\u001b[0m\u001b[0;34m\u001b[0m\u001b[0m\n\u001b[0;32m---> 22\u001b[0;31m     \u001b[0;32massert\u001b[0m\u001b[0;34m(\u001b[0m\u001b[0mexpr\u001b[0m\u001b[0;34m[\u001b[0m\u001b[0;34m-\u001b[0m\u001b[0;36m1\u001b[0m\u001b[0;34m]\u001b[0m\u001b[0;34m==\u001b[0m\u001b[0mright_Paran\u001b[0m\u001b[0;34m)\u001b[0m\u001b[0;34m,\u001b[0m \u001b[0;34m\"The expression must end with )\"\u001b[0m\u001b[0;34m\u001b[0m\u001b[0m\n\u001b[0m\u001b[1;32m     23\u001b[0m \u001b[0;34m\u001b[0m\u001b[0m\n\u001b[1;32m     24\u001b[0m     \u001b[0;32mfor\u001b[0m \u001b[0mtoken\u001b[0m \u001b[0;32min\u001b[0m \u001b[0mexpr\u001b[0m\u001b[0;34m:\u001b[0m\u001b[0;34m\u001b[0m\u001b[0m\n",
      "\u001b[0;31mNameError\u001b[0m: name 'right_Paran' is not defined"
     ]
    }
   ],
   "source": [
    "result = pars_tree('( 4 + 5 ) * ( 6 / 7 )')\n",
    "result.getRoot()"
   ]
  },
  {
   "cell_type": "code",
   "execution_count": 27,
   "metadata": {},
   "outputs": [],
   "source": [
    "\"\"\" Dictionary-based approach \"\"\"\n",
    "import operator\n",
    "\n",
    "OPERATORS = {\n",
    "    '+':operator.add,\n",
    "    '-':operator.sub,\n",
    "    '*':operator.mul,\n",
    "    '/':operator.truediv\n",
    "}\n",
    "\n",
    "left_Paran = '('\n",
    "right_Paran = ')'\n",
    "\n",
    "def parser_tree(expression):\n",
    "    exp = ''.join(expression.split())\n",
    "    print(exp)\n",
    "    tree = {}\n",
    "    stack = []\n",
    "    stack.append(tree)\n",
    "    current = tree\n",
    "    \n",
    "    for token in exp:\n",
    "        print(token)\n",
    "        if token == left_Paran:\n",
    "            current['left']={}\n",
    "            stack.append(current)\n",
    "            current = current['left']\n",
    "\n",
    "        elif token == right_Paran:\n",
    "            current = stack.pop()\n",
    "            \n",
    "        elif token in OPERATORS.keys():\n",
    "            current['key'] = token\n",
    "            current['right']={}\n",
    "            stack.append(current)\n",
    "            current = current['right']\n",
    "        else:\n",
    "            current['key']=int(token)\n",
    "            current = stack.pop()\n",
    "    return tree\n",
    "            \n",
    "    "
   ]
  },
  {
   "cell_type": "markdown",
   "metadata": {},
   "source": [
    "### Evaluate a Parse Tree:"
   ]
  },
  {
   "cell_type": "code",
   "execution_count": 28,
   "metadata": {},
   "outputs": [],
   "source": [
    "def evaluate(parse_tree):\n",
    "    \n",
    "    OPERATORS = {\n",
    "        '+':operator.add,\n",
    "        '-':operator.sub,\n",
    "        '*':operator.mul,\n",
    "        '/':operator.truediv\n",
    "    }\n",
    "    \n",
    "    left  = parse_tree.getLeftChild()\n",
    "    right = parse_tree.getRightChild()\n",
    "            \n",
    "    try:\n",
    "        operat = OPERATORS[parse_tree.getRoot()]        \n",
    "        return operat(evaluate(left), evaluate(right))\n",
    "\n",
    "    except KeyError:\n",
    "        # Base case - return the value if it is a leaf node\n",
    "        return parse_tree.getRoot()"
   ]
  },
  {
   "cell_type": "code",
   "execution_count": 29,
   "metadata": {},
   "outputs": [
    {
     "data": {
      "text/plain": [
       "9.857142857142858"
      ]
     },
     "execution_count": 29,
     "metadata": {},
     "output_type": "execute_result"
    }
   ],
   "source": [
    "pt=pars_tree('( (6/7) + ( 4 + 5 ) )')\n",
    "evaluate(pt)"
   ]
  },
  {
   "cell_type": "markdown",
   "metadata": {},
   "source": [
    "### Tree traversals:\n",
    "\n",
    "**Preorder traversal :**\n",
    "Suppose that you wanted to read this book from front to back. The preorder traversal gives you exactly that ordering. "
   ]
  },
  {
   "cell_type": "code",
   "execution_count": 30,
   "metadata": {},
   "outputs": [],
   "source": [
    "def preorder_traversal(tree):\n",
    "    \n",
    "    if tree:\n",
    "        print(tree.getRoot())\n",
    "        preorder_traversal(tree.getLeftChild())\n",
    "        preorder_traversal(tree.getRightChild())"
   ]
  },
  {
   "cell_type": "code",
   "execution_count": 31,
   "metadata": {},
   "outputs": [],
   "source": [
    "tree_book = Node('book')\n",
    "tree_book.insertLeft('Chap1')\n",
    "tree_book.getLeftChild().insertLeft('sec1.1')\n",
    "tree_book.getLeftChild().insertRight('sec1.2')\n",
    "tree_book.getLeftChild().getRightChild().insertLeft('sec1.2.1')\n",
    "tree_book.getLeftChild().getRightChild().insertRight('sec1.2.2')\n",
    "tree_book.insertRight('Chap2')\n",
    "tree_book.getRightChild().insertLeft('sec2.1')"
   ]
  },
  {
   "cell_type": "code",
   "execution_count": 32,
   "metadata": {},
   "outputs": [
    {
     "data": {
      "text/plain": [
       "'sec1.2'"
      ]
     },
     "execution_count": 32,
     "metadata": {},
     "output_type": "execute_result"
    }
   ],
   "source": [
    "tree_book.getLeftChild().getRightChild().getRoot()"
   ]
  },
  {
   "cell_type": "code",
   "execution_count": 33,
   "metadata": {},
   "outputs": [
    {
     "name": "stdout",
     "output_type": "stream",
     "text": [
      "book\n",
      "Chap1\n",
      "sec1.1\n",
      "sec1.2\n",
      "sec1.2.1\n",
      "sec1.2.2\n",
      "Chap2\n",
      "sec2.1\n"
     ]
    }
   ],
   "source": [
    "preorder_traversal(tree_book)"
   ]
  },
  {
   "cell_type": "code",
   "execution_count": 34,
   "metadata": {},
   "outputs": [
    {
     "data": {
      "text/plain": [
       "' Adding preorder traversal as a method of Node:\\ndef preorder_traversal(self):\\n    print(self.getValue())\\n    \\n    if self.LeftChild:\\n        self.leftChild.preorder_traversal()\\n    if self.RightChild:\\n        self.RightChild.preorder_traversal()\\n\\n'"
      ]
     },
     "execution_count": 34,
     "metadata": {},
     "output_type": "execute_result"
    }
   ],
   "source": [
    "\"\"\" Adding preorder traversal as a method of Node:\n",
    "def preorder_traversal(self):\n",
    "    print(self.getValue())\n",
    "    \n",
    "    if self.LeftChild:\n",
    "        self.leftChild.preorder_traversal()\n",
    "    if self.RightChild:\n",
    "        self.RightChild.preorder_traversal()\n",
    "\n",
    "\"\"\""
   ]
  },
  {
   "cell_type": "markdown",
   "metadata": {},
   "source": [
    "** Postorder Traversal:** evaluating a parser tree. What we are doing is evaluating the left subtree, evaluating the right subtree, and combining them in the root through the function call to an operator. "
   ]
  },
  {
   "cell_type": "code",
   "execution_count": 35,
   "metadata": {},
   "outputs": [],
   "source": [
    "def postorder_traversal(tree):\n",
    "    if tree:\n",
    "        postorder_traversal(tree.getLeftChild())\n",
    "        postorder_traversal(tree.getRightChild())\n",
    "        print(tree.getRoot())"
   ]
  },
  {
   "cell_type": "code",
   "execution_count": 36,
   "metadata": {},
   "outputs": [
    {
     "name": "stdout",
     "output_type": "stream",
     "text": [
      "sec1.1\n",
      "sec1.2.1\n",
      "sec1.2.2\n",
      "sec1.2\n",
      "Chap1\n",
      "sec2.1\n",
      "Chap2\n",
      "book\n"
     ]
    }
   ],
   "source": [
    "postorder_traversal(tree_book)"
   ]
  },
  {
   "cell_type": "code",
   "execution_count": 37,
   "metadata": {},
   "outputs": [],
   "source": [
    "def evaluate_parser_tree_postorder(tree):\n",
    "    OPERATORS={\n",
    "    '+':operator.add,\n",
    "    '-':operator.sub,\n",
    "    '*':operator.mul,\n",
    "    '/':operator.truediv\n",
    "    }\n",
    "    \n",
    "    if tree:\n",
    "        left = evaluate_parser_tree_postorder(tree.getLeftChild())\n",
    "        right = evaluate_parser_tree_postorder(tree.getRightChild())\n",
    "        \n",
    "        if left and right:\n",
    "            return OPERATORS[tree.getRoot()](left, right)\n",
    "        else:\n",
    "            return tree.getRoot()"
   ]
  },
  {
   "cell_type": "code",
   "execution_count": 38,
   "metadata": {},
   "outputs": [
    {
     "data": {
      "text/plain": [
       "9.857142857142858"
      ]
     },
     "execution_count": 38,
     "metadata": {},
     "output_type": "execute_result"
    }
   ],
   "source": [
    "pt=pars_tree('( (6/7) + ( 4 + 5 ) )')\n",
    "evaluate_parser_tree_postorder(pt)"
   ]
  },
  {
   "cell_type": "markdown",
   "metadata": {},
   "source": [
    "### Inorder traversal:"
   ]
  },
  {
   "cell_type": "code",
   "execution_count": 39,
   "metadata": {},
   "outputs": [],
   "source": [
    "def inorder_traversal(tree):\n",
    "    if tree:\n",
    "        inorder_traversal(tree.getLeftChild())\n",
    "        print(tree.getRoot())\n",
    "        inorder_traversal(tree.getRightChild())"
   ]
  },
  {
   "cell_type": "code",
   "execution_count": 40,
   "metadata": {},
   "outputs": [
    {
     "name": "stdout",
     "output_type": "stream",
     "text": [
      "sec1.1\n",
      "Chap1\n",
      "sec1.2.1\n",
      "sec1.2\n",
      "sec1.2.2\n",
      "book\n",
      "sec2.1\n",
      "Chap2\n"
     ]
    }
   ],
   "source": [
    "inorder_traversal(tree_book)"
   ]
  },
  {
   "cell_type": "code",
   "execution_count": 41,
   "metadata": {},
   "outputs": [
    {
     "name": "stdout",
     "output_type": "stream",
     "text": [
      "4\n",
      "*\n",
      "6\n",
      "/\n",
      "7\n",
      "5\n"
     ]
    }
   ],
   "source": [
    "# Print the parse tree with inorder traversal:\n",
    "inorder_traversal(pars_tree('( 4 + 5 ) * ( 6 / 7 )'))"
   ]
  },
  {
   "cell_type": "code",
   "execution_count": 42,
   "metadata": {},
   "outputs": [],
   "source": [
    "def print_exp(tree):\n",
    "    \n",
    "    if tree is None:\n",
    "        return ''\n",
    "    else:\n",
    "        \n",
    "        left = print_exp(tree.getLeftChild())\n",
    "        right = print_exp(tree.getRightChild())\n",
    "        root = str(tree.getRoot())\n",
    "        \n",
    "        print('( {0}{1}{2} )'.format(left,root,right))\n"
   ]
  },
  {
   "cell_type": "code",
   "execution_count": 43,
   "metadata": {},
   "outputs": [
    {
     "name": "stdout",
     "output_type": "stream",
     "text": [
      "( 4 )\n",
      "( 6 )\n",
      "( 5 )\n",
      "( 7None )\n",
      "( None/None )\n",
      "( None*None )\n"
     ]
    }
   ],
   "source": [
    "print_exp(pars_tree('( 4 + 5 ) * ( 6 / 7 )'))"
   ]
  },
  {
   "cell_type": "code",
   "execution_count": 44,
   "metadata": {},
   "outputs": [],
   "source": [
    "def printexp(tree):\n",
    "    sVal = \"\"\n",
    "    if tree:\n",
    "        sVal = '(' + printexp(tree.getLeftChild())\n",
    "        sVal = sVal + str(tree.getRoot())\n",
    "        sVal = sVal + printexp(tree.getRightChild())+')'\n",
    "    return sVal"
   ]
  },
  {
   "cell_type": "code",
   "execution_count": 45,
   "metadata": {},
   "outputs": [
    {
     "data": {
      "text/plain": [
       "'((4)*((6)/(7(5))))'"
      ]
     },
     "execution_count": 45,
     "metadata": {},
     "output_type": "execute_result"
    }
   ],
   "source": [
    "printexp(pars_tree('( 4 + 5 ) * ( 6 / 7 )'))"
   ]
  },
  {
   "cell_type": "markdown",
   "metadata": {},
   "source": [
    "### Priority queques forward in Exercise 2 notebook"
   ]
  },
  {
   "cell_type": "code",
   "execution_count": null,
   "metadata": {},
   "outputs": [],
   "source": []
  }
 ],
 "metadata": {
  "kernelspec": {
   "display_name": "Python 3",
   "language": "python",
   "name": "python3"
  },
  "language_info": {
   "codemirror_mode": {
    "name": "ipython",
    "version": 3
   },
   "file_extension": ".py",
   "mimetype": "text/x-python",
   "name": "python",
   "nbconvert_exporter": "python",
   "pygments_lexer": "ipython3",
   "version": "3.7.3"
  }
 },
 "nbformat": 4,
 "nbformat_minor": 4
}
