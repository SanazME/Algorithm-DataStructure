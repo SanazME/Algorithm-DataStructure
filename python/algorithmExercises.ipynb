{
 "cells": [
  {
   "cell_type": "raw",
   "metadata": {},
   "source": [
    "Difference between input() and sys.stdin.read():\n",
    "\n",
    "- sys.stdin.read can take multiple lines and ends when the user presses Ctrl+D, input takes only one line and ends when the user presses Enter. \n",
    "\n",
    "- input() also takes as an argument a string to use as a prompt, while sys.stdin.read() takes the length to read into the user-entered string as an optional argument instead (and provides no prompt \n",
    "\n",
    "If you mean to say why sys is a library instead of being ready for use in Python all the time, that's likely because it would be inefficient for Python to keep libraries loaded if they aren't being used, so the library is kept optional."
   ]
  },
  {
   "cell_type": "raw",
   "metadata": {},
   "source": [
    "In my opinion, it is better to print the prompt string first and then call input with no args, like so:"
   ]
  },
  {
   "cell_type": "code",
   "execution_count": null,
   "metadata": {},
   "outputs": [],
   "source": [
    "print('Do you want to do whatever?')\n",
    "result = input()  ## notice that there is no prompt string passed to input()"
   ]
  },
  {
   "cell_type": "raw",
   "metadata": {},
   "source": [
    "It reads the lines from the current file position into a list:"
   ]
  },
  {
   "cell_type": "code",
   "execution_count": null,
   "metadata": {},
   "outputs": [],
   "source": [
    "file_object = open('filename')\n",
    "lines = file_object.readlines()"
   ]
  },
  {
   "cell_type": "code",
   "execution_count": 18,
   "metadata": {},
   "outputs": [],
   "source": []
  },
  {
   "cell_type": "code",
   "execution_count": 3,
   "metadata": {},
   "outputs": [
    {
     "data": {
      "text/plain": [
       "\u001b[0;31mSignature:\u001b[0m \u001b[0msys\u001b[0m\u001b[0;34m.\u001b[0m\u001b[0mstdin\u001b[0m\u001b[0;34m.\u001b[0m\u001b[0mreadlines\u001b[0m\u001b[0;34m(\u001b[0m\u001b[0mhint\u001b[0m\u001b[0;34m=\u001b[0m\u001b[0;34m-\u001b[0m\u001b[0;36m1\u001b[0m\u001b[0;34m,\u001b[0m \u001b[0;34m/\u001b[0m\u001b[0;34m)\u001b[0m\u001b[0;34m\u001b[0m\u001b[0m\n",
       "\u001b[0;31mDocstring:\u001b[0m\n",
       "Return a list of lines from the stream.\n",
       "\n",
       "hint can be specified to control the number of lines read: no more\n",
       "lines will be read if the total size (in bytes/characters) of all\n",
       "lines so far exceeds hint.\n",
       "\u001b[0;31mType:\u001b[0m      builtin_function_or_method\n"
      ]
     },
     "metadata": {},
     "output_type": "display_data"
    }
   ],
   "source": [
    "import sys\n",
    "sys.stdin.read?\n",
    "sys.stdin.readlines?"
   ]
  },
  {
   "cell_type": "code",
   "execution_count": null,
   "metadata": {},
   "outputs": [],
   "source": []
  },
  {
   "cell_type": "code",
   "execution_count": null,
   "metadata": {},
   "outputs": [],
   "source": []
  },
  {
   "cell_type": "code",
   "execution_count": null,
   "metadata": {},
   "outputs": [],
   "source": []
  },
  {
   "cell_type": "code",
   "execution_count": null,
   "metadata": {},
   "outputs": [],
   "source": []
  },
  {
   "cell_type": "code",
   "execution_count": 59,
   "metadata": {},
   "outputs": [
    {
     "name": "stdout",
     "output_type": "stream",
     "text": [
      "Enter number of numbers:\n",
      "Enter numbers separated by space:\n",
      "56\n"
     ]
    }
   ],
   "source": [
    "import sys\n",
    "print('Enter number of numbers:')\n",
    "n = input()\n",
    "print('Enter numbers separated by space:')\n",
    "#results = sys.stdin.read()\n",
    "listNum = input().split(' ', maxsplit=int(n))\n",
    "del listNum[int(n):]\n",
    "numbers = list(map(int, listNum))\n",
    "\n",
    "# Approach 1\n",
    "#product=[]\n",
    "#for n1 in numbers:\n",
    "#    for n2 in numbers:\n",
    "#        if n1 != n2:\n",
    "#            product.append(n1*n2)\n",
    "#print(product)\n",
    "#print(max(product))\n",
    "\n",
    "# Approach 2\n",
    "nMax = max(numbers)\n",
    "numbers.remove(nMax)\n",
    "nMax2 = max(numbers)\n",
    "print(nMax*nMax2)\n"
   ]
  },
  {
   "cell_type": "code",
   "execution_count": 55,
   "metadata": {},
   "outputs": [],
   "source": [
    "numbers.remove(nMax)"
   ]
  },
  {
   "cell_type": "code",
   "execution_count": 54,
   "metadata": {},
   "outputs": [
    {
     "data": {
      "text/plain": [
       "8"
      ]
     },
     "execution_count": 54,
     "metadata": {},
     "output_type": "execute_result"
    }
   ],
   "source": [
    "nMax\n"
   ]
  },
  {
   "cell_type": "code",
   "execution_count": null,
   "metadata": {},
   "outputs": [],
   "source": []
  },
  {
   "cell_type": "code",
   "execution_count": null,
   "metadata": {},
   "outputs": [],
   "source": []
  }
 ],
 "metadata": {
  "kernelspec": {
   "display_name": "Python 3",
   "language": "python",
   "name": "python3"
  },
  "language_info": {
   "codemirror_mode": {
    "name": "ipython",
    "version": 3
   },
   "file_extension": ".py",
   "mimetype": "text/x-python",
   "name": "python",
   "nbconvert_exporter": "python",
   "pygments_lexer": "ipython3",
   "version": "3.5.4"
  }
 },
 "nbformat": 4,
 "nbformat_minor": 2
}
