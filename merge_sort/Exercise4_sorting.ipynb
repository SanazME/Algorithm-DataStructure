{
 "cells": [
  {
   "cell_type": "markdown",
   "metadata": {},
   "source": [
    "### Sorting algorithms\n",
    "\n",
    "1. Bubble sort\n",
    "2. Selection sort\n",
    "3. Insertion sort\n",
    "4. Shell sort\n",
    "5. Quick sort\n",
    "6. Merge sort\n",
    "7. Heap sort\n",
    "\n",
    "Visualization: \n",
    "1. https://visualgo.net/\n",
    "2. www.sorting-algorithms.com\n"
   ]
  },
  {
   "cell_type": "markdown",
   "metadata": {},
   "source": [
    "### Bubble sort\n",
    "The bubble sort makes multiple passes through a list. It compares adjacent items and exchanges those that are out of order. Each pass through the list places the next largest value in its proper place. In essence, each item “bubbles” up to the location where it belongs.\n",
    "\n",
    "Figure 1 shows the first pass of a bubble sort. The shaded items are being compared to see if they are out of order. If there are n items in the list, then there are n−1 pairs of items that need to be compared on the first pass. It is important to note that once the largest value in the list is part of a pair, it will continually be moved along until the pass is complete.\n",
    "\n",
    "At the start of the second pass, the largest value is now in place. There are n−1 items left to sort, meaning that there will be n−2 pairs. Since each pass places the next largest value in place, the total number of passes necessary will be n−1. After completing the n−1 passes, the smallest item must be in the correct position with no further processing required.\n",
    "\n",
    "![title](bubblepass.png)\n",
    "\n",
    "To analyze the bubble sort, we should note that regardless of how the items are arranged in the initial list, n−1 passes will be made to sort a list of size n. Table 1 shows the number of comparisons for each pass. The total number of comparisons is the sum of the first n−1 integers. Recall that the sum of the first n integers is 1/2n^2+1/2n. The sum of the first n−1 integers is 1/2n^2+1/2n−n, which is 1/2n^2−1/2n. This is still O(n^2) comparisons. In the best case, if the list is already ordered, no exchanges will be made. However, in the worst case, every comparison will cause an exchange. On average, we exchange half of the time.\n",
    "\n",
    "A bubble sort is often considered the most inefficient sorting method since it must exchange items before the final location is known. These “wasted” exchange operations are very costly. However, because the bubble sort makes passes through the entire unsorted portion of the list, it has the capability to do something most sorting algorithms cannot. In particular, if during a pass there are no exchanges, then we know that the list must be sorted. A bubble sort can be modified to stop early if it finds that the list has become sorted. This means that for lists that require just a few passes, a bubble sort may have an advantage in that it will recognize the sorted list and stop. ActiveCode 2 shows this modification, which is often referred to as the **short bubble**."
   ]
  },
  {
   "cell_type": "code",
   "execution_count": 23,
   "metadata": {},
   "outputs": [],
   "source": [
    "def bubbleSort(alist):\n",
    "    \n",
    "    if alist is None:\n",
    "        return\n",
    "    # For every element(pass) (arranged backwards)\n",
    "    for passnum in range(len(alist)-1,0,-1):\n",
    "        #print(passnum)\n",
    "        for i in range(passnum):\n",
    "            \n",
    "            if alist[i] > alist[i+1]:\n",
    "                alist[i], alist[i+1] = alist[i+1], alist[i]  \n",
    "    return alist"
   ]
  },
  {
   "cell_type": "code",
   "execution_count": 24,
   "metadata": {},
   "outputs": [
    {
     "data": {
      "text/plain": [
       "[17, 20, 26, 31, 44, 54, 55, 77, 93]"
      ]
     },
     "execution_count": 24,
     "metadata": {},
     "output_type": "execute_result"
    }
   ],
   "source": [
    "bubbleSort([54,26,93,17,77,31,44,55,20])"
   ]
  },
  {
   "cell_type": "code",
   "execution_count": 33,
   "metadata": {},
   "outputs": [],
   "source": [
    "def shortBubbleSort(alist):\n",
    "    if alist is None:\n",
    "        return\n",
    "    \n",
    "    passnum = len(alist)-1\n",
    "    swap = True\n",
    "    while passnum > 0 and swap:\n",
    "        swap = False\n",
    "        for i in range(passnum):            \n",
    "            if alist[i] > alist[i+1]:\n",
    "                alist[i], alist[i+1] = alist[i+1], alist[i]  \n",
    "                swap = True\n",
    "        \n",
    "        passnum -= 1\n",
    "    print('Pass: {0}, swap: {1}'.format(passnum, swap))\n",
    "    return alist"
   ]
  },
  {
   "cell_type": "code",
   "execution_count": 34,
   "metadata": {},
   "outputs": [
    {
     "name": "stdout",
     "output_type": "stream",
     "text": [
      "Pass: 5, swap: False\n"
     ]
    },
    {
     "data": {
      "text/plain": [
       "[17, 26, 31, 44, 54, 55, 77, 80, 93]"
      ]
     },
     "execution_count": 34,
     "metadata": {},
     "output_type": "execute_result"
    }
   ],
   "source": [
    "shortBubbleSort([54,26,17,31,44,55,77, 80, 93])"
   ]
  },
  {
   "cell_type": "markdown",
   "metadata": {},
   "source": [
    "### Selection sort\n",
    "\n",
    "The selection sort improves on the bubble sort by making only one exchange for every pass through the list. In order to do this, a selection sort looks for the largest value as it makes a pass and, after completing the pass, places it in the proper location. As with a bubble sort, after the first pass, the largest item is in the correct place. After the second pass, the next largest is in place. This process continues and requires n−1 passes to sort n items, since the final item must be in place after the (n−1) st pass.\n",
    "\n",
    "![title](selectionsortnew.png)\n",
    "\n",
    "You may see that the selection sort makes the same number of comparisons as the bubble sort and is therefore also O(n2). However, due to the reduction in the number of exchanges, the selection sort typically executes faster in benchmark studies."
   ]
  },
  {
   "cell_type": "code",
   "execution_count": 48,
   "metadata": {},
   "outputs": [],
   "source": [
    "def selectionsort(alist):\n",
    "    if alist==None:\n",
    "        return \n",
    "    \n",
    "    for passnum in range(len(alist)-1, 0, -1):\n",
    "        maxpos = 0\n",
    "        for i in range(1,passnum+1):\n",
    "            if alist[i]>alist[maxpos]:\n",
    "                maxpos=i\n",
    "                \n",
    "        alist[passnum], alist[maxpos]=alist[maxpos], alist[passnum]\n",
    "    return alist"
   ]
  },
  {
   "cell_type": "code",
   "execution_count": 49,
   "metadata": {},
   "outputs": [
    {
     "data": {
      "text/plain": [
       "[17, 20, 26, 31, 44, 54, 55, 77, 93]"
      ]
     },
     "execution_count": 49,
     "metadata": {},
     "output_type": "execute_result"
    }
   ],
   "source": [
    "selectionsort([54,26,93,17,77,31,44,55,20])"
   ]
  },
  {
   "cell_type": "markdown",
   "metadata": {},
   "source": [
    "### Insertion sort\n",
    "The insertion sort, although still O(n2), works in a slightly different way. It always maintains a sorted sublist in the lower positions of the list. Each new item is then “inserted” back into the previous sublist such that the sorted sublist is one item larger. \n",
    "\n",
    "![title](insertionsort.png)\n",
    "\n",
    "We begin by assuming that a list with one item (position 0) is already sorted. On each pass, one for each item 1 through n−1, the current item is checked against those in the already sorted sublist. As we look back into the already sorted sublist, we shift those items that are greater to the right. When we reach a smaller item or the end of the sublist, the current item can be inserted.\n",
    "\n",
    "Figure 5 shows the fifth pass in detail. At this point in the algorithm, a sorted sublist of five items consisting of 17, 26, 54, 77, and 93 exists. We want to insert 31 back into the already sorted items. The first comparison against 93 causes 93 to be shifted to the right. 77 and 54 are also shifted. When the item 26 is encountered, the shifting process stops and 31 is placed in the open position. Now we have a sorted sublist of six items.\n",
    "\n",
    "![title](insertionpass.png)\n",
    "\n",
    "The maximum number of comparisons for an insertion sort is the sum of the first n−1 integers. Again, this is O(n2). However, in the best case, only one comparison needs to be done on each pass. This would be the case for an already sorted list.\n",
    "\n",
    "One note about shifting versus exchanging is also important. In general, a shift operation requires approximately a third of the processing work of an exchange since only one assignment is performed. In benchmark studies, insertion sort will show very good performance."
   ]
  },
  {
   "cell_type": "code",
   "execution_count": 50,
   "metadata": {},
   "outputs": [],
   "source": [
    "def insertionSort(alist):\n",
    "    if alist==None:\n",
    "        return\n",
    "    \n",
    "    for i in range(1,len(alist)):\n",
    "        position = i\n",
    "        currentValue = alist[i]\n",
    "        \n",
    "        while position > 0 and alist[position-1]>currentValue:\n",
    "            alist[position]=alist[position-1]\n",
    "            position-=1\n",
    "            \n",
    "        alist[position]=currentValue\n",
    "    return alist"
   ]
  },
  {
   "cell_type": "code",
   "execution_count": 51,
   "metadata": {},
   "outputs": [
    {
     "data": {
      "text/plain": [
       "[17, 20, 26, 31, 44, 54, 55, 77, 93]"
      ]
     },
     "execution_count": 51,
     "metadata": {},
     "output_type": "execute_result"
    }
   ],
   "source": [
    "insertionSort([54,26,93,17,77,31,44,55,20])"
   ]
  },
  {
   "cell_type": "markdown",
   "metadata": {},
   "source": [
    "### Shell sort\n",
    "The shell sort, sometimes called the “diminishing increment sort,” improves on the insertion sort by breaking the original list into a number of smaller sublists, each of which is sorted using an insertion sort. The unique way that these sublists are chosen is the key to the shell sort. Instead of breaking the list into sublists of contiguous items, the shell sort uses an increment i, sometimes called the gap, to create a sublist by choosing all items that are i items apart.\n",
    "\n",
    "This can be seen in Figure 6. This list has nine items. If we use an increment of three, there are three sublists, each of which can be sorted by an insertion sort. After completing these sorts, we get the list shown in Figure 7. Although this list is not completely sorted, something very interesting has happened. By sorting the sublists, we have moved the items closer to where they actually belong.\n",
    "\n",
    "![title](shellsortA.png)\n",
    "\n",
    "![title](shellsortB.png)\n",
    "\n",
    "Figure 8 shows a final insertion sort using an increment of one; in other words, a standard insertion sort. Note that by performing the earlier sublist sorts, we have now reduced the total number of shifting operations necessary to put the list in its final order. For this case, we need only four more shifts to complete the process.\n",
    "\n",
    "![title](shellsortC.png)\n",
    "\n",
    "At first glance you may think that a shell sort cannot be better than an insertion sort, since it does a complete insertion sort as the last step. It turns out, however, that this final insertion sort does not need to do very many comparisons (or shifts) since the list has been pre-sorted by earlier incremental insertion sorts, as described above. In other words, each pass produces a list that is “more sorted” than the previous one. This makes the final pass very efficient.\n",
    "\n",
    "Although a general analysis of the shell sort is well beyond the scope of this text, we can say that it tends to fall somewhere between O(n) and O(n^2), based on the behavior described above. For the increments shown in Listing 5, the performance is O(n^2). By changing the increment, for example using 2^k−1 (1, 3, 7, 15, 31, and so on), a shell sort can perform at O(n^3/2)"
   ]
  },
  {
   "cell_type": "markdown",
   "metadata": {},
   "source": [
    "We said earlier that the way in which the increments are chosen is the unique feature of the shell sort. The function shown in ActiveCode 1 uses a different set of increments. In this case, we begin with n/2 sublists. On the next pass, n/4 sublists are sorted. Eventually, a single list is sorted with the basic insertion sort. Figure 9 shows the first sublists for our example using this increment.\n",
    "\n",
    "![title](shellsortD.png)\n"
   ]
  },
  {
   "cell_type": "code",
   "execution_count": 78,
   "metadata": {},
   "outputs": [],
   "source": [
    "def shellsort(alist):\n",
    "    # gap - increment size\n",
    "    sublistcount = len(alist)//2\n",
    "    \n",
    "    while sublistcount > 0 :\n",
    "        \n",
    "        for startposition in range(sublistcount):\n",
    "            gapInsertionSort(alist, startposition, sublistcount)\n",
    "        \n",
    "            print('After increment of size ', sublistcount, ' the list is ', alist)\n",
    "        sublistcount = sublistcount//2\n",
    "\n",
    "def gapInsertionSort(alist, start, gap):\n",
    "    \n",
    "    for i in range(start+gap, len(alist), gap):\n",
    "        current = alist[i]\n",
    "        position=i\n",
    "        \n",
    "        while alist[position-gap] > current and position >= gap:\n",
    "            alist[position] = alist[position-gap]            \n",
    "            position -= gap\n",
    "\n",
    "        alist[position] = current"
   ]
  },
  {
   "cell_type": "code",
   "execution_count": 79,
   "metadata": {},
   "outputs": [
    {
     "name": "stdout",
     "output_type": "stream",
     "text": [
      "After increment of size  4  the list is  [20, 26, 93, 17, 54, 31, 44, 55, 77]\n",
      "After increment of size  4  the list is  [20, 26, 93, 17, 54, 31, 44, 55, 77]\n",
      "After increment of size  4  the list is  [20, 26, 44, 17, 54, 31, 93, 55, 77]\n",
      "After increment of size  4  the list is  [20, 26, 44, 17, 54, 31, 93, 55, 77]\n",
      "After increment of size  2  the list is  [20, 26, 44, 17, 54, 31, 77, 55, 93]\n",
      "After increment of size  2  the list is  [20, 17, 44, 26, 54, 31, 77, 55, 93]\n",
      "After increment of size  1  the list is  [17, 20, 26, 31, 44, 54, 55, 77, 93]\n"
     ]
    }
   ],
   "source": [
    "shellsort([54,26,93,17,77,31,44,55,20])"
   ]
  },
  {
   "cell_type": "markdown",
   "metadata": {},
   "source": [
    "### The Merge Sort \n",
    "\n",
    "We now turn our attention to using a divide and conquer strategy as a way to improve the performance of sorting algorithms. The first algorithm we will study is the merge sort. Merge sort is a recursive algorithm that continually splits a list in half. If the list is empty or has one item, it is sorted by definition (the base case). If the list has more than one item, we split the list and recursively invoke a merge sort on both halves. Once the two halves are sorted, the fundamental operation, called a merge, is performed. Merging is the process of taking two smaller sorted lists and combining them together into a single, sorted, new list. Figure 10 shows our familiar example list as it is being split by mergeSort. Figure 11 shows the simple lists, now sorted, as they are merged back together.\n",
    "\n",
    "![title](mergesortA.png)\n",
    "\n",
    "![title](mergesortB.png)\n",
    "\n",
    "\n",
    "In order to analyze the mergeSort function, we need to consider the two distinct processes that make up its implementation. First, the list is split into halves. We already computed (in a binary search) that we can divide a list in half logn times where n is the length of the list. The second process is the merge. Each item in the list will eventually be processed and placed on the sorted list. So the merge operation which results in a list of size n requires n operations. The result of this analysis is that logn splits, each of which costs n for a total of nlogn operations. A merge sort is an O(nlogn) algorithm.\n",
    "\n",
    "Recall that the slicing operator is O(k) where k is the size of the slice. In order to guarantee that mergeSort will be O(nlogn) we will need to remove the slice operator. Again, this is possible if we simply pass the starting and ending indices along with the list when we make the recursive call. We leave this as an exercise.\n",
    "\n",
    "It is important to notice that the mergeSort function requires extra space to hold the two halves as they are extracted with the slicing operations. This additional space can be a critical factor if the list is large and can make this sort problematic when working on large data sets."
   ]
  },
  {
   "cell_type": "code",
   "execution_count": 3,
   "metadata": {},
   "outputs": [],
   "source": [
    "def mergeSort(alist):\n",
    "    print('Splitting list ', alist)\n",
    "\n",
    "    if len(alist)>1:\n",
    "        \n",
    "        mid = len(alist)//2\n",
    "        lefthalf = alist[:mid]\n",
    "        righthalf = alist[mid:]\n",
    "        \n",
    "        mergeSort(lefthalf)\n",
    "        mergeSort(righthalf)\n",
    "        \n",
    "        i=0\n",
    "        j=0\n",
    "        k=0\n",
    "        \n",
    "        while i < len(lefthalf) and j<len(righthalf):\n",
    "            if lefthalf[i]<righthalf[j]:\n",
    "                alist[k] = lefthalf[i]\n",
    "                i+=1\n",
    "            else:\n",
    "                alist[k]=righthalf[j]\n",
    "                j+=1\n",
    "            k+=1\n",
    "\n",
    "        while i < len(lefthalf):\n",
    "            alist[k] = lefthalf[i]\n",
    "            k+=1\n",
    "            i+=1\n",
    "            \n",
    "        while j < len(righthalf):\n",
    "            alist[k] = righthalf[j]\n",
    "            k+=1\n",
    "            j+=1\n",
    "            \n",
    "    print('Merging ', alist)\n",
    "    "
   ]
  },
  {
   "cell_type": "code",
   "execution_count": 4,
   "metadata": {},
   "outputs": [
    {
     "name": "stdout",
     "output_type": "stream",
     "text": [
      "Splitting list  [54, 26, 93, 17, 77, 31, 44, 55, 20]\n",
      "Splitting list  [54, 26, 93, 17]\n",
      "Splitting list  [54, 26]\n",
      "Splitting list  [54]\n",
      "Merging  [54]\n",
      "Splitting list  [26]\n",
      "Merging  [26]\n",
      "Merging  [26, 54]\n",
      "Splitting list  [93, 17]\n",
      "Splitting list  [93]\n",
      "Merging  [93]\n",
      "Splitting list  [17]\n",
      "Merging  [17]\n",
      "Merging  [17, 93]\n",
      "Merging  [17, 26, 54, 93]\n",
      "Splitting list  [77, 31, 44, 55, 20]\n",
      "Splitting list  [77, 31]\n",
      "Splitting list  [77]\n",
      "Merging  [77]\n",
      "Splitting list  [31]\n",
      "Merging  [31]\n",
      "Merging  [31, 77]\n",
      "Splitting list  [44, 55, 20]\n",
      "Splitting list  [44]\n",
      "Merging  [44]\n",
      "Splitting list  [55, 20]\n",
      "Splitting list  [55]\n",
      "Merging  [55]\n",
      "Splitting list  [20]\n",
      "Merging  [20]\n",
      "Merging  [20, 55]\n",
      "Merging  [20, 44, 55]\n",
      "Merging  [20, 31, 44, 55, 77]\n",
      "Merging  [17, 20, 26, 31, 44, 54, 55, 77, 93]\n"
     ]
    }
   ],
   "source": [
    "mergeSort([54,26,93,17,77,31,44,55,20])"
   ]
  },
  {
   "cell_type": "code",
   "execution_count": 1,
   "metadata": {},
   "outputs": [],
   "source": [
    "def mergeSort3(alist):\n",
    "    \n",
    "    if len(alist)>1:\n",
    "       \n",
    "        mid = len(alist)//2\n",
    "        \n",
    "        leftList = alist[:mid]\n",
    "        rightList = alist[mid:]\n",
    "        \n",
    "        mergeSort3(leftList)\n",
    "        mergeSort3(rightList)\n",
    "        \n",
    "        i=0\n",
    "        j=0\n",
    "        k=0\n",
    "        \n",
    "        while i < len(leftList) and j < len(rightList):\n",
    "            if leftList[i] < rightList[j]:\n",
    "                alist[k]=leftList[i]\n",
    "                i+=1\n",
    "            else:\n",
    "                alist[k]=rightList[j]\n",
    "                j+=1\n",
    "            k+=1\n",
    "            \n",
    "        while i < len(leftList):\n",
    "            alist[k] = leftList[i]\n",
    "            k+=1\n",
    "            i+=1\n",
    "            \n",
    "        while j < len(rightList):\n",
    "            alist[k] = rightList[j]\n",
    "            k+=1\n",
    "            j+=1\n",
    "    return alist\n",
    "            "
   ]
  },
  {
   "cell_type": "code",
   "execution_count": 2,
   "metadata": {},
   "outputs": [
    {
     "data": {
      "text/plain": [
       "[17, 20, 26, 31, 44, 54, 55, 77, 93]"
      ]
     },
     "execution_count": 2,
     "metadata": {},
     "output_type": "execute_result"
    }
   ],
   "source": [
    "mergeSort3([54,26,93,17,77,31,44,55,20])"
   ]
  },
  {
   "cell_type": "code",
   "execution_count": 1,
   "metadata": {},
   "outputs": [],
   "source": [
    "def mergeSortNoSlicing(alist):\n",
    "    return _mergeSort(alist,0, len(alist)-1)\n",
    "    \n",
    "def _mergeSort(alist, start, end):\n",
    "    \n",
    "    mid = (end-start)//2 + start # or (end+start)//2 !\n",
    "    \n",
    "    if start < mid:\n",
    "        _mergeSort(alist, start, mid)\n",
    "    if mid+1 <= end:\n",
    "        _mergeSort(alist, mid+1, end)\n",
    "    \n",
    "    #merge_sort_sub(alist, start, end)\n",
    "    # Stich together, order and merge\n",
    "    i=start\n",
    "    mid=(end+start)//2+1\n",
    "    j=mid\n",
    "    result=[]\n",
    "    \n",
    "    while i < mid and j <= end:\n",
    "        if alist[i]<alist[j]:\n",
    "            result.append(alist[i])\n",
    "            i+=1\n",
    "        else:\n",
    "            result.append(alist[j])\n",
    "            j+=1\n",
    "           \n",
    "    while i < mid:\n",
    "        result.append(alist[i])\n",
    "        i+=1\n",
    "        \n",
    "    while j <= end:\n",
    "        result.append(alist[j])\n",
    "        j+=1\n",
    "       \n",
    "    k=start\n",
    "    for item in result:\n",
    "        alist[k]=item\n",
    "        k+=1\n",
    "    return alist\n",
    "    \n",
    "    \n",
    "#def merge_sort_sub(alist, start, end):\n",
    "#    i=start\n",
    "#    mid=(end-start)//2+start+1\n",
    "#    j=mid\n",
    "#    result=[]\n",
    "    \n",
    "#    while i < mid and j <= end:\n",
    "#        if alist[i]<alist[j]:\n",
    "#            result.append(alist[i])\n",
    "#            i+=1\n",
    "#        else:\n",
    "#            result.append(alist[j])\n",
    "#            j+=1\n",
    "    \n",
    "#    while i < mid:\n",
    "#        result.append(alist[i])\n",
    "#        i+=1\n",
    "        \n",
    "#    while j <= end:\n",
    "#        result.append(alist[j])\n",
    "#        j+=1\n",
    "        \n",
    "#    ii=start\n",
    "#    for item in result:\n",
    "#        alist[ii]=item\n",
    "#        ii+=1\n",
    "#    print(alist)"
   ]
  },
  {
   "cell_type": "code",
   "execution_count": 2,
   "metadata": {},
   "outputs": [
    {
     "data": {
      "text/plain": [
       "[17, 20, 26, 31, 44, 54, 55, 77, 93]"
      ]
     },
     "execution_count": 2,
     "metadata": {},
     "output_type": "execute_result"
    }
   ],
   "source": [
    "mergeSortNoSlicing([54,26,93,17,77,31,44,55,20])"
   ]
  },
  {
   "cell_type": "code",
   "execution_count": 12,
   "metadata": {},
   "outputs": [],
   "source": [
    "def _merge_sort(indices, the_list):\n",
    "    start = indices[0]\n",
    "    end = indices[1]\n",
    "    half_way = (end - start)//2 + start\n",
    "    if start < half_way:\n",
    "        _merge_sort((start, half_way), the_list)\n",
    "    if half_way + 1 <= end and end - start != 1:\n",
    "        _merge_sort((half_way + 1, end), the_list)\n",
    "    #a stack is created using log(n) number of recursions\n",
    "    sort_sub_list(the_list, indices[0], indices[1])\n",
    "\n",
    "\n",
    "def sort_sub_list(the_list, start, end):\n",
    "    orig_start = start\n",
    "    initial_start_second_list = (end - start)//2 + start + 1\n",
    "    list2_first_index = initial_start_second_list\n",
    "    new_list = []\n",
    "    while start < initial_start_second_list and list2_first_index <= end:\n",
    "        first1 = the_list[start]\n",
    "        first2 = the_list[list2_first_index]\n",
    "        if first1 > first2:\n",
    "            new_list.append(first2)\n",
    "            list2_first_index += 1\n",
    "        else:\n",
    "            new_list.append(first1)\n",
    "            start += 1\n",
    "    while start < initial_start_second_list:\n",
    "        new_list.append(the_list[start])\n",
    "        start += 1\n",
    "\n",
    "    while list2_first_index <= end:\n",
    "        new_list.append(the_list[list2_first_index])\n",
    "        list2_first_index += 1\n",
    "    # at this point, the total number each while statement ran is  n\n",
    "    # now we have to do n again!\n",
    "    for i in new_list:\n",
    "        the_list[orig_start] = i\n",
    "        orig_start += 1\n",
    "    print(the_list)\n",
    "\n",
    "\n",
    "def merge_sort(the_list):\n",
    "    return _merge_sort((0, len(the_list) - 1), the_list)"
   ]
  },
  {
   "cell_type": "code",
   "execution_count": 13,
   "metadata": {},
   "outputs": [
    {
     "name": "stdout",
     "output_type": "stream",
     "text": [
      "[26, 54, 93, 17, 77, 31, 44, 55, 20]\n",
      "[26, 54, 93, 17, 77, 31, 44, 55, 20]\n",
      "[26, 54, 93, 17, 77, 31, 44, 55, 20]\n",
      "[26, 54, 93, 17, 77, 31, 44, 55, 20]\n",
      "[17, 26, 54, 77, 93, 31, 44, 55, 20]\n",
      "[17, 26, 54, 77, 93, 31, 44, 55, 20]\n",
      "[17, 26, 54, 77, 93, 31, 44, 20, 55]\n",
      "[17, 26, 54, 77, 93, 20, 31, 44, 55]\n",
      "[17, 20, 26, 31, 44, 54, 55, 77, 93]\n"
     ]
    }
   ],
   "source": [
    "merge_sort([54,26,93,17,77,31,44,55,20])"
   ]
  },
  {
   "cell_type": "markdown",
   "metadata": {},
   "source": [
    "### Quick Sort\n",
    "\n",
    "The quick sort uses divide and conquer to gain the same advantages as the merge sort, while not using additional storage. As a trade-off, however, it is possible that the list may not be divided in half. When this happens, we will see that performance is diminished.\n",
    "\n",
    "A quick sort first selects a value, which is called the **pivot value**. Although there are many different ways to choose the pivot value, we will simply use the first item in the list. **The role of the pivot value is to assist with splitting the list**. The actual position where the pivot value belongs in the final sorted list, commonly called the **split point**, will be used to divide the list for subsequent calls to the quick sort.\n",
    "\n",
    "Figure 12 shows that 54 will serve as our first pivot value. Since we have looked at this example a few times already, we know that 54 will eventually end up in the position currently holding 31. The partition process will happen next. It will find the split point and at the same time move other items to the appropriate side of the list, either less than or greater than the pivot value.\n",
    "\n",
    "Partitioning begins by locating two position markers—let’s call them leftmark and rightmark—at the beginning and end of the remaining items in the list (positions 1 and 8 in Figure 13). The goal of the partition process is to move items that are on the wrong side with respect to the pivot value while also converging on the split point. Figure 13 shows this process as we locate the position of 54.\n",
    "\n",
    "![title](partitionA.png)\n",
    "\n",
    "We begin by incrementing leftmark until we locate a value that is greater than the pivot value. We then decrement rightmark until we find a value that is less than the pivot value. At this point we have discovered two items that are out of place with respect to the eventual split point. For our example, this occurs at 93 and 20. Now we can exchange these two items and then repeat the process again.\n",
    "\n",
    "At the point where rightmark becomes less than leftmark, we stop. **The position of rightmark is now the split point.** The pivot value can be exchanged with the contents of the split point and the pivot value is now in place (Figure 14). In addition, all the items to the left of the split point are less than the pivot value, and all the items to the right of the split point are greater than the pivot value. **The list can now be divided at the split point and the quick sort can be invoked recursively on the two halves.**\n",
    "\n",
    "To analyze the quickSort function, note that for a list of length n, if the partition always occurs in the middle of the list, there will again be logn divisions. In order to find the split point, each of the n items needs to be checked against the pivot value. The result is nlogn. In addition, there is no need for additional memory as in the merge sort process.\n",
    "\n",
    "Unfortunately, in the worst case, the split points may not be in the middle and can be very skewed to the left or the right, leaving a very uneven division. In this case, sorting a list of n items divides into sorting a list of 0 items and a list of n−1 items. Then sorting a list of n−1 divides into a list of size 0 and a list of size n−2, and so on. The result is an O(n2) sort with all of the overhead that recursion requires.\n",
    "\n",
    "We mentioned earlier that there are different ways to choose the pivot value. In particular, we can attempt to alleviate some of the potential for an uneven division by using a technique called **median of three**. To choose the pivot value, we will consider the first, the middle, and the last element in the list. In our example, those are 54, 77, and 20. Now pick the median value, in our case 54, and use it for the pivot value (of course, that was the pivot value we used originally). The idea is that in the case where the the first item in the list does not belong toward the middle of the list, the median of three will choose a better “middle” value. This will be particularly useful when the original list is somewhat sorted to begin with. We leave the implementation of this pivot value selection as an exercise."
   ]
  },
  {
   "cell_type": "code",
   "execution_count": 12,
   "metadata": {},
   "outputs": [],
   "source": [
    "def quickSort(alist):\n",
    "    quickSortHelper(alist, 0, len(alist)-1) \n",
    "    \n",
    "def quickSortHelper(alist, start, end):\n",
    "    if start < end:\n",
    "        \n",
    "        splitpoint = partition(alist, start, end)\n",
    "        print('After partition:', alist)\n",
    "        quickSortHelper(alist, start, splitpoint-1)\n",
    "        quickSortHelper(alist, splitpoint+1, end)\n",
    "\n",
    "        \n",
    "def partition(alist, start, end):\n",
    "    pivot = start\n",
    "    \n",
    "    leftmarker = start+1\n",
    "    rightmarker = end\n",
    "    \n",
    "    condition = True\n",
    "    \n",
    "    while condition:\n",
    "        while alist[leftmarker] <= alist[pivot] and leftmarker <= rightmarker:\n",
    "            leftmarker += 1\n",
    "            \n",
    "        while alist[rightmarker] >= alist[pivot] and leftmarker <= rightmarker:\n",
    "            rightmarker -= 1\n",
    "            \n",
    "        if rightmarker < leftmarker:\n",
    "            alist[pivot], alist[rightmarker] = alist[rightmarker], alist[pivot]\n",
    "            #pivot = rightmarker\n",
    "            \n",
    "            condition = False\n",
    "        else:\n",
    "            if alist[leftmarker] > alist[rightmarker]:\n",
    "                alist[leftmarker], alist[rightmarker] = alist[rightmarker], alist[leftmarker]\n",
    "    return rightmarker\n",
    "        "
   ]
  },
  {
   "cell_type": "code",
   "execution_count": 13,
   "metadata": {},
   "outputs": [
    {
     "name": "stdout",
     "output_type": "stream",
     "text": [
      "After partition: [31, 26, 20, 17, 44, 54, 77, 55, 93]\n",
      "After partition: [17, 26, 20, 31, 44, 54, 77, 55, 93]\n",
      "After partition: [17, 26, 20, 31, 44, 54, 77, 55, 93]\n",
      "After partition: [17, 20, 26, 31, 44, 54, 77, 55, 93]\n",
      "After partition: [17, 20, 26, 31, 44, 54, 55, 77, 93]\n",
      "[17, 20, 26, 31, 44, 54, 55, 77, 93]\n"
     ]
    }
   ],
   "source": [
    "alist=[54,26,93,17,77,31,44,55,20]\n",
    "quickSort(alist)\n",
    "print(alist)"
   ]
  },
  {
   "cell_type": "markdown",
   "metadata": {},
   "source": [
    "**Important : Merge Sort is the only guaranteed O(n log n) even in the worst case. The cost is that merge sort uses more memory.**\n",
    "\n",
    "- A sequential search is O(n) for ordered and unordered lists.\n",
    "- A binary search of an ordered list is O(logn) in the worst case.\n",
    "- Hash tables can provide constant time searching.\n",
    "- A bubble sort, a selection sort, and an insertion sort are O(n2) algorithms.\n",
    "- A shell sort improves on the insertion sort by sorting incremental sublists. It falls between O(n) and O(n2).\n",
    "- A merge sort is O(nlogn), but requires additional space for the merging process.\n",
    "- A quick sort is O(nlogn), but may degrade to O(n2) if the split points are not near the middle of the list. It does not require additional space."
   ]
  },
  {
   "cell_type": "code",
   "execution_count": null,
   "metadata": {},
   "outputs": [],
   "source": []
  }
 ],
 "metadata": {
  "kernelspec": {
   "display_name": "Python 3",
   "language": "python",
   "name": "python3"
  },
  "language_info": {
   "codemirror_mode": {
    "name": "ipython",
    "version": 3
   },
   "file_extension": ".py",
   "mimetype": "text/x-python",
   "name": "python",
   "nbconvert_exporter": "python",
   "pygments_lexer": "ipython3",
   "version": "3.7.3"
  }
 },
 "nbformat": 4,
 "nbformat_minor": 4
}
