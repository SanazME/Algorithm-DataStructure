{
 "cells": [
  {
   "cell_type": "code",
   "execution_count": 1,
   "metadata": {},
   "outputs": [],
   "source": [
    "class Node:\n",
    "    def __init__(self, data):\n",
    "        self.data = data\n",
    "        self.next = None\n",
    "        return\n",
    "        \n",
    "    def has_value(self):\n",
    "        return self.data"
   ]
  },
  {
   "cell_type": "code",
   "execution_count": null,
   "metadata": {},
   "outputs": [],
   "source": [
    "class LinkedList:\n",
    "    def __init__(self):\n",
    "        self.head = None\n",
    "        return\n",
    "    \n",
    "    def sortedInsert(self, newNode):\n",
    "        \n",
    "        if not isinstance(newNode, Node):\n",
    "            newNode = Node(newNode)\n",
    "        \n",
    "        if self.head is None:\n",
    "            #newNode.next = self.head\n",
    "            self.head = newNode\n",
    "            \n",
    "        elif self.head.data >= newNode.data:\n",
    "            newNode.next = self.head\n",
    "            self.head = newNode"
   ]
  },
  {
   "cell_type": "code",
   "execution_count": null,
   "metadata": {},
   "outputs": [],
   "source": []
  },
  {
   "cell_type": "code",
   "execution_count": null,
   "metadata": {},
   "outputs": [],
   "source": []
  },
  {
   "cell_type": "code",
   "execution_count": null,
   "metadata": {},
   "outputs": [],
   "source": []
  },
  {
   "cell_type": "code",
   "execution_count": 4,
   "metadata": {},
   "outputs": [],
   "source": [
    "class Node:\n",
    "    def __init__(self, data):\n",
    "        self.data= data\n",
    "        self.next = None\n",
    "        return\n",
    "    def hasValue(self):\n",
    "        return self.data"
   ]
  },
  {
   "cell_type": "code",
   "execution_count": 12,
   "metadata": {},
   "outputs": [],
   "source": [
    "class LinkedList:\n",
    "    def __init__(self):\n",
    "        self.head = None\n",
    "        return\n",
    "    \n",
    "    def listLength(self):\n",
    "        currentNode = self.head\n",
    "        count = 0\n",
    "        while currentNode is not None:\n",
    "            count += 1\n",
    "            currentNode = currentNode.next\n",
    "        return count\n",
    "    \n",
    "    def sortedInsert(self, newNode):\n",
    "        if not isinstance(newNode, Node):\n",
    "            newNode = Node(newNode)\n",
    "            \n",
    "        if self.head is None:\n",
    "            self.head = newNode\n",
    "            newNode.next = None\n",
    "\n",
    "        elif self.head.data >= newNode.data:\n",
    "            newNode.next = self.head\n",
    "            self.head = newNode\n",
    "        \n",
    "        else:\n",
    "            currentNode = self.head\n",
    "            while (currentNode.next is not None and \n",
    "                  currentNode.next.data < newNode.data):\n",
    "                currentNode = currentNode.next\n",
    "            newNode.next = currentNode.next\n",
    "            currentNode.next = newNode\n",
    "      \n",
    "    def printList(self):\n",
    "        currentNode = self.head\n",
    "        while currentNode:\n",
    "            print(currentNode.hasValue())\n",
    "            currentNode = currentNode.next"
   ]
  },
  {
   "cell_type": "code",
   "execution_count": 13,
   "metadata": {},
   "outputs": [],
   "source": [
    "L1=LinkedList()"
   ]
  },
  {
   "cell_type": "code",
   "execution_count": 14,
   "metadata": {},
   "outputs": [],
   "source": [
    "N1 = Node(1)\n",
    "N2 = Node(2)\n",
    "N3 = Node(3)"
   ]
  },
  {
   "cell_type": "code",
   "execution_count": 15,
   "metadata": {},
   "outputs": [],
   "source": [
    "L1.sortedInsert(N1)\n",
    "L1.sortedInsert(N2)\n",
    "L1.sortedInsert(N3)"
   ]
  },
  {
   "cell_type": "code",
   "execution_count": 16,
   "metadata": {},
   "outputs": [
    {
     "name": "stdout",
     "output_type": "stream",
     "text": [
      "1\n",
      "2\n",
      "3\n"
     ]
    }
   ],
   "source": [
    "L1.printList()"
   ]
  },
  {
   "cell_type": "code",
   "execution_count": 17,
   "metadata": {},
   "outputs": [],
   "source": [
    "L1.sortedInsert(Node(10))"
   ]
  },
  {
   "cell_type": "code",
   "execution_count": 18,
   "metadata": {},
   "outputs": [
    {
     "name": "stdout",
     "output_type": "stream",
     "text": [
      "1\n",
      "2\n",
      "3\n",
      "10\n"
     ]
    }
   ],
   "source": [
    "L1.printList()"
   ]
  },
  {
   "cell_type": "code",
   "execution_count": null,
   "metadata": {},
   "outputs": [],
   "source": [
    "L1"
   ]
  }
 ],
 "metadata": {
  "kernelspec": {
   "display_name": "Python 3",
   "language": "python",
   "name": "python3"
  },
  "language_info": {
   "codemirror_mode": {
    "name": "ipython",
    "version": 3
   },
   "file_extension": ".py",
   "mimetype": "text/x-python",
   "name": "python",
   "nbconvert_exporter": "python",
   "pygments_lexer": "ipython3",
   "version": "3.5.4"
  }
 },
 "nbformat": 4,
 "nbformat_minor": 2
}
