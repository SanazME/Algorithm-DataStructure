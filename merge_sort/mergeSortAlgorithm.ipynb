{
 "cells": [
  {
   "cell_type": "code",
   "execution_count": null,
   "metadata": {},
   "outputs": [],
   "source": []
  },
  {
   "cell_type": "code",
   "execution_count": 71,
   "metadata": {},
   "outputs": [],
   "source": [
    "def mergeSort(l_list):\n",
    "    length = len(l_list)\n",
    "    \n",
    "    if length > 1:\n",
    "        mid = length//2\n",
    "        \n",
    "        left  = l_list[0:mid]\n",
    "        right = l_list[mid:]\n",
    "        mergeSort(left)\n",
    "        mergeSort(right)\n",
    "        \n",
    "        merge(l_list, left, right)\n",
    "    \n",
    "    return l_list\n",
    "        "
   ]
  },
  {
   "cell_type": "code",
   "execution_count": 72,
   "metadata": {},
   "outputs": [],
   "source": [
    "def merge(l_list, left, right):\n",
    "    i=j=k=0  \n",
    "    \n",
    "    while i < len(left) and j < len(right):\n",
    "        if left[i] < right[j]:\n",
    "            l_list[k] = left[i]\n",
    "            i += 1\n",
    "        else:\n",
    "            l_list[k] = right[j]\n",
    "            j += 1\n",
    "        k += 1\n",
    "\n",
    "    while i < len(left):\n",
    "        l_list[k] = left[i]\n",
    "        i += 1\n",
    "        k += 1\n",
    "\n",
    "    while j < len(right):\n",
    "        l_list[k] = right[j]\n",
    "        j += 1\n",
    "        k += 1   \n",
    "    return l_list"
   ]
  },
  {
   "cell_type": "code",
   "execution_count": 73,
   "metadata": {},
   "outputs": [
    {
     "data": {
      "text/plain": [
       "[0, 2, 4, 7, 8]"
      ]
     },
     "execution_count": 73,
     "metadata": {},
     "output_type": "execute_result"
    }
   ],
   "source": [
    "mergeSort([4,7,2,8,0])"
   ]
  },
  {
   "cell_type": "markdown",
   "metadata": {},
   "source": [
    "Time Complexity: Sorting arrays on different machines. Merge Sort is a recursive algorithm and time complexity can be expressed as following recurrence relation.\n",
    "$$T(n) = 2T(n/2) + \\Theta(n)$$\n",
    "The above recurrence can be solved either using Recurrence Tree method or Master method. It falls in case II of Master Method and solution of the recurrence is $$\\Theta(nLogn)$$.\n",
    "\n",
    "Time complexity of Merge Sort is $$\\Theta(nLogn) $$in all 3 cases (worst, average and best) as merge sort always divides the array in two halves and take linear time to merge two halves.\n",
    "\n",
    "Auxiliary Space: O(n)"
   ]
  },
  {
   "cell_type": "code",
   "execution_count": null,
   "metadata": {},
   "outputs": [],
   "source": []
  }
 ],
 "metadata": {
  "kernelspec": {
   "display_name": "Python 3",
   "language": "python",
   "name": "python3"
  },
  "language_info": {
   "codemirror_mode": {
    "name": "ipython",
    "version": 3
   },
   "file_extension": ".py",
   "mimetype": "text/x-python",
   "name": "python",
   "nbconvert_exporter": "python",
   "pygments_lexer": "ipython3",
   "version": "3.5.4"
  }
 },
 "nbformat": 4,
 "nbformat_minor": 2
}
