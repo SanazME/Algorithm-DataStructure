{
 "cells": [
  {
   "cell_type": "markdown",
   "metadata": {},
   "source": [
    "Given a linked list which is sorted, how will you insert in sorted way\n",
    "Given a sorted linked list and a value to insert, write a function to insert the value in sorted way.\n",
    "\n",
    "https://www.geeksforgeeks.org/given-a-linked-list-which-is-sorted-how-will-you-insert-in-sorted-way/\n"
   ]
  },
  {
   "cell_type": "code",
   "execution_count": 4,
   "metadata": {},
   "outputs": [],
   "source": [
    "class Node:\n",
    "    def __init__(self, data):\n",
    "        self.data= data\n",
    "        self.next = None\n",
    "        return\n",
    "    def hasValue(self):\n",
    "        return self.data"
   ]
  },
  {
   "cell_type": "code",
   "execution_count": 12,
   "metadata": {},
   "outputs": [],
   "source": [
    "class LinkedList:\n",
    "    def __init__(self):\n",
    "        self.head = None\n",
    "        return\n",
    "    \n",
    "    def listLength(self):\n",
    "        currentNode = self.head\n",
    "        count = 0\n",
    "        while currentNode is not None:\n",
    "            count += 1\n",
    "            currentNode = currentNode.next\n",
    "        return count\n",
    "    \n",
    "    def sortedInsert(self, newNode):\n",
    "        if not isinstance(newNode, Node):\n",
    "            newNode = Node(newNode)\n",
    "            \n",
    "        if self.head is None:\n",
    "            self.head = newNode\n",
    "            newNode.next = None\n",
    "\n",
    "        elif self.head.data >= newNode.data:\n",
    "            newNode.next = self.head\n",
    "            self.head = newNode\n",
    "        \n",
    "        else:\n",
    "            currentNode = self.head\n",
    "            while (currentNode.next is not None and \n",
    "                  currentNode.next.data < newNode.data):\n",
    "                currentNode = currentNode.next\n",
    "            newNode.next = currentNode.next\n",
    "            currentNode.next = newNode\n",
    "      \n",
    "    def printList(self):\n",
    "        currentNode = self.head\n",
    "        while currentNode:\n",
    "            print(currentNode.hasValue())\n",
    "            currentNode = currentNode.next"
   ]
  },
  {
   "cell_type": "code",
   "execution_count": 13,
   "metadata": {},
   "outputs": [],
   "source": [
    "L1=LinkedList()"
   ]
  },
  {
   "cell_type": "code",
   "execution_count": 14,
   "metadata": {},
   "outputs": [],
   "source": [
    "N1 = Node(1)\n",
    "N2 = Node(2)\n",
    "N3 = Node(3)"
   ]
  },
  {
   "cell_type": "code",
   "execution_count": 15,
   "metadata": {},
   "outputs": [],
   "source": [
    "L1.sortedInsert(N1)\n",
    "L1.sortedInsert(N2)\n",
    "L1.sortedInsert(N3)"
   ]
  },
  {
   "cell_type": "code",
   "execution_count": 16,
   "metadata": {},
   "outputs": [
    {
     "name": "stdout",
     "output_type": "stream",
     "text": [
      "1\n",
      "2\n",
      "3\n"
     ]
    }
   ],
   "source": [
    "L1.printList()"
   ]
  },
  {
   "cell_type": "code",
   "execution_count": 17,
   "metadata": {},
   "outputs": [],
   "source": [
    "L1.sortedInsert(Node(10))"
   ]
  },
  {
   "cell_type": "code",
   "execution_count": 18,
   "metadata": {},
   "outputs": [
    {
     "name": "stdout",
     "output_type": "stream",
     "text": [
      "1\n",
      "2\n",
      "3\n",
      "10\n"
     ]
    }
   ],
   "source": [
    "L1.printList()"
   ]
  },
  {
   "cell_type": "code",
   "execution_count": 19,
   "metadata": {},
   "outputs": [
    {
     "name": "stdout",
     "output_type": "stream",
     "text": [
      "1\n",
      "2\n",
      "3\n",
      "5\n",
      "10\n"
     ]
    }
   ],
   "source": [
    "L1.sortedInsert(Node(5))\n",
    "L1.printList()"
   ]
  },
  {
   "cell_type": "code",
   "execution_count": 30,
   "metadata": {},
   "outputs": [],
   "source": [
    "class Node:\n",
    "    def __init__(self, value):\n",
    "        self.value = value\n",
    "        self.next=None\n",
    "        return\n",
    "        \n",
    "    def hasValue(self):\n",
    "        return self.value"
   ]
  },
  {
   "cell_type": "code",
   "execution_count": 31,
   "metadata": {},
   "outputs": [],
   "source": [
    "class LinkedList:\n",
    "    def __init__(self):\n",
    "        self.head = None\n",
    "        return\n",
    "    \n",
    "    def listLength(self):\n",
    "        current = self.head\n",
    "        count = 0\n",
    "        while current:\n",
    "            count += 1\n",
    "            current = current.next\n",
    "        return count\n",
    "      \n",
    "    def sortedInsert(self, newNode):\n",
    "        if not isinstance(newNode, Node):\n",
    "            newNode = Node(newNode)\n",
    "        if self.head is None:\n",
    "            self.head = newNode\n",
    "            newNode.next = None\n",
    "            \n",
    "        elif newNode.value <= self.head.value:\n",
    "            newNode.next = self.head\n",
    "            self.head = newNode\n",
    "            \n",
    "        else:\n",
    "            current = self.head\n",
    "            while(current.next and current.next.value < newNode.value):\n",
    "                current = current.next\n",
    "            newNode.next = current.next\n",
    "            current.next = newNode\n",
    "            \n",
    "    def listValues(self):\n",
    "        current = self.head\n",
    "        while current:\n",
    "            print(current.hasValue())\n",
    "            current = current.next"
   ]
  },
  {
   "cell_type": "code",
   "execution_count": 32,
   "metadata": {},
   "outputs": [],
   "source": [
    "L2 = LinkedList()"
   ]
  },
  {
   "cell_type": "code",
   "execution_count": 33,
   "metadata": {},
   "outputs": [],
   "source": [
    "L2.sortedInsert(3)\n",
    "L2.sortedInsert(10)\n",
    "L2.sortedInsert(5)\n",
    "L2.sortedInsert(1)"
   ]
  },
  {
   "cell_type": "code",
   "execution_count": 34,
   "metadata": {},
   "outputs": [
    {
     "name": "stdout",
     "output_type": "stream",
     "text": [
      "1\n",
      "3\n",
      "5\n",
      "10\n"
     ]
    }
   ],
   "source": [
    "L2.listValues()"
   ]
  },
  {
   "cell_type": "markdown",
   "metadata": {},
   "source": [
    "**From The Book:**\n",
    "Minimally, the linked list instance must keep\n",
    "a reference to the head of the list. Without an explicit reference to the head, there\n",
    "would be no way to locate that node (or indirectly, any others). There is not an\n",
    "absolute need to store a direct reference to the tail of the list, as it could otherwise\n",
    "be located by starting at the head and traversing the rest of the list. However,\n",
    "storing an explicit **reference to the tail node is a common convenience to avoid\n",
    "such a traversal**. In similar regard, it is common for the linked list instance to keep\n",
    "a **count of the total number of nodes that comprise the list (commonly described as\n",
    "the size of the list)**, to avoid the need to traverse the list to count the nodes."
   ]
  },
  {
   "cell_type": "code",
   "execution_count": null,
   "metadata": {},
   "outputs": [],
   "source": []
  }
 ],
 "metadata": {
  "kernelspec": {
   "display_name": "Python 3",
   "language": "python",
   "name": "python3"
  },
  "language_info": {
   "codemirror_mode": {
    "name": "ipython",
    "version": 3
   },
   "file_extension": ".py",
   "mimetype": "text/x-python",
   "name": "python",
   "nbconvert_exporter": "python",
   "pygments_lexer": "ipython3",
   "version": "3.5.4"
  }
 },
 "nbformat": 4,
 "nbformat_minor": 2
}
