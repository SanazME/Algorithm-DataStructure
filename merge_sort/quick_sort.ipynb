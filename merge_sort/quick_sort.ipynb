{
 "cells": [
  {
   "cell_type": "markdown",
   "metadata": {},
   "source": [
    "### Geeksforgeeks:\n",
    "https://www.geeksforgeeks.org/quick-sort/\n",
    "\n",
    "### QuickSort\n",
    "Like Merge Sort, QuickSort is a Divide and Conquer algorithm. It picks an element as pivot and partitions the given array around the picked pivot. There are many different versions of quickSort that pick pivot in different ways.\n",
    "\n",
    " 1 - Always pick first element as pivot.\n",
    " \n",
    " 2 - Always pick last element as pivot (implemented below)\n",
    " \n",
    " 3- Pick a random element as pivot.\n",
    " \n",
    " 4 - Pick median as pivot.\n",
    " \n",
    "The key process in quickSort is partition(). Target of partitions is, given an array and an element x of array as pivot, put x at its correct position in sorted array and put all smaller elements (smaller than x) before x, and put all greater elements (greater than x) after x. All this should be done in linear time.\n",
    "\n",
    "\n",
    "### Time analysis:\n",
    "\n",
    "T(n) = T(k) + T(n-k-1) + O(n)\n",
    "\n",
    "The first two terms are for two recursive calls, the last term is for the partition process. k is the number of elements which are smaller than pivot.(each T(..) is recursively including O(..))\n",
    "The time taken by QuickSort depends upon the input array and partition strategy. Following are three cases.\n",
    "\n",
    "**The worst case: ** \n",
    "When the pivot is always the max or the min :\n",
    "\n",
    "T(n) = T(0) + T(n) + O(n) => O(n^2)\n",
    "\n",
    "**Best Case: **\n",
    "The best case occurs when the partition process always picks the middle element as pivot. Following is recurrence for best case.\n",
    "\n",
    " T(n) = 2T(n/2) + \\theta(n)\n",
    "The solution of above recurrence is O(nLogn).\n",
    "\n",
    "**Why Quick Sort is preferred over MergeSort for sorting Arrays**\n",
    "Quick Sort in its general form is an in-place sort (i.e. it doesn’t require any extra storage) whereas merge sort requires O(N) extra storage, N denoting the array size which may be quite expensive. Allocating and de-allocating the extra space used for merge sort increases the running time of the algorithm. Comparing average complexity we find that both type of sorts have O(NlogN) average complexity but the constants differ. For arrays, merge sort loses due to the use of extra O(N) storage space.\n",
    "\n",
    "Most practical implementations of Quick Sort use randomized version. The randomized version has expected time complexity of O(nLogn). The worst case is possible in randomized version also, but worst case doesn’t occur for a particular pattern (like sorted array) and randomized Quick Sort works well in practice.\n",
    "\n",
    "Quick Sort is also a cache friendly sorting algorithm as it has good locality of reference when used for arrays.\n",
    "\n",
    "Quick Sort is also tail recursive, therefore tail call optimizations is done.\n",
    "\n",
    "**Why MergeSort is preferred over QuickSort for Linked Lists?**\n",
    "In case of linked lists the case is different mainly due to difference in memory allocation of arrays and linked lists. Unlike arrays, linked list nodes may not be adjacent in memory. Unlike array, in linked list, we can insert items in the middle in O(1) extra space and O(1) time. Therefore merge operation of merge sort can be implemented without extra space for linked lists.\n",
    "\n",
    "In arrays, we can do random access as elements are continuous in memory. Let us say we have an integer (4-byte) array A and let the address of A[0] be x then to access A[i], we can directly access the memory at (x + i*4). Unlike arrays, we can not do random access in linked list. Quick Sort requires a lot of this kind of access. In linked list to access i’th index, we have to travel each and every node from the head to i’th node as we don’t have continuous block of memory. Therefore, the overhead increases for quick sort. Merge sort accesses data sequentially and the need of random access is low."
   ]
  },
  {
   "cell_type": "code",
   "execution_count": 1,
   "metadata": {},
   "outputs": [],
   "source": [
    "def partition(arr,low,high):\n",
    "    # This function takes last element as pivot, places \n",
    "# the pivot element at its correct position in sorted \n",
    "# array, and places all smaller (smaller than pivot) \n",
    "# to left of pivot and all greater elements to right \n",
    "# of pivot \n",
    "    i = low-1\n",
    "    pivot = arr[high]\n",
    "    \n",
    "    for j in range(low, high):\n",
    "        if arr[j] <= pivot:\n",
    "            i+=1\n",
    "            arr[i], arr[j] = arr[j], arr[i]\n",
    "    arr[i+1], arr[high] = arr[high], arr[i+1]\n",
    "    return i+1"
   ]
  },
  {
   "cell_type": "code",
   "execution_count": 4,
   "metadata": {},
   "outputs": [],
   "source": [
    "def quickSort(arr, low, high):\n",
    "    if low < high:\n",
    "        # p_idx is partitioning index, arr[p] is now \n",
    "        # at right place \n",
    "        p_idx = partition(arr,low,high)\n",
    "        \n",
    "        # Separately sort elements before \n",
    "        # partition and after partition\n",
    "        quickSort(arr,low, p_idx-1)\n",
    "        quickSort(arr, p_idx+1, high)"
   ]
  },
  {
   "cell_type": "code",
   "execution_count": 5,
   "metadata": {},
   "outputs": [],
   "source": [
    "# Driver code to test above \n",
    "arr = [10, 7, 8, 9, 1, 5] \n",
    "n = len(arr) \n",
    "quickSort(arr,0,n-1) "
   ]
  },
  {
   "cell_type": "code",
   "execution_count": 6,
   "metadata": {},
   "outputs": [
    {
     "name": "stdout",
     "output_type": "stream",
     "text": [
      "1\n",
      "5\n",
      "7\n",
      "8\n",
      "9\n",
      "10\n"
     ]
    }
   ],
   "source": [
    "for i in range(len(arr)):\n",
    "    print(arr[i])"
   ]
  },
  {
   "cell_type": "code",
   "execution_count": 11,
   "metadata": {},
   "outputs": [],
   "source": [
    "# Driver code to test above \n",
    "arr = [10, 7, 8, 9, 1, 5] \n",
    "n = len(arr) \n",
    "quickSort(arr,0,len(arr)-1) "
   ]
  },
  {
   "cell_type": "code",
   "execution_count": 12,
   "metadata": {},
   "outputs": [
    {
     "name": "stdout",
     "output_type": "stream",
     "text": [
      "1\n",
      "5\n",
      "7\n",
      "8\n",
      "9\n",
      "10\n"
     ]
    }
   ],
   "source": [
    "for i in range(len(arr)):\n",
    "    print(arr[i])"
   ]
  },
  {
   "cell_type": "code",
   "execution_count": 13,
   "metadata": {},
   "outputs": [
    {
     "data": {
      "text/plain": [
       "8"
      ]
     },
     "execution_count": 13,
     "metadata": {},
     "output_type": "execute_result"
    }
   ],
   "source": [
    "arr[-3]"
   ]
  },
  {
   "cell_type": "markdown",
   "metadata": {},
   "source": [
    "### Kth Largest Element in an Array\n",
    "\n",
    "Find the kth largest element in an unsorted array. Note that it is the kth largest element in the sorted order, not the kth distinct element.\n",
    "\n",
    "Example 1:\n",
    "\n",
    "Input: [3,2,1,5,6,4] and k = 2\n",
    "Output: 5\n",
    "Example 2:\n",
    "\n",
    "Input: [3,2,3,1,2,4,5,5,6] and k = 4\n",
    "Output: 4"
   ]
  },
  {
   "cell_type": "code",
   "execution_count": 46,
   "metadata": {},
   "outputs": [],
   "source": [
    "\n",
    "def findKthLargest(nums, k):\n",
    "    \"\"\"\n",
    "    :type nums: List[int]\n",
    "    :type k: int\n",
    "    :rtype: int\n",
    "    \"\"\"\n",
    "    #quickSort(nums, 0, len(nums)-1)\n",
    "    #return nums[-k]\n",
    "    low, high, rank = 0, len(nums)-1, len(nums)-(k-1)\n",
    "    \n",
    "    while low <= high:\n",
    "        ret = partition(nums, low, high)\n",
    "    \n",
    "        print('ret:', ret)\n",
    "        print('rank-1 :', rank-1)\n",
    "\n",
    "        if ret == rank-1:\n",
    "            return nums[ret]\n",
    "        elif ret < rank-1:\n",
    "            low = ret + 1\n",
    "        else:\n",
    "            high = ret -1\n",
    "\n",
    "\n",
    "def quickSort(nums, low, high):\n",
    "    if low < high:\n",
    "        p_idx = self.partition(nums, low, high)\n",
    "\n",
    "        quickSort(nums, low, p_idx-1)\n",
    "        quickSort(nums, p_idx+1, high)\n",
    "\n",
    "\n",
    "def partition(nums, low, high):\n",
    "    pivot = nums[high]\n",
    "    i = low-1\n",
    "\n",
    "    for j in range(low, high):\n",
    "        if nums[j] <= pivot:\n",
    "            i+=1\n",
    "            nums[i], nums[j] = nums[j], nums[i]\n",
    "    print(nums)\n",
    "    nums[i+1], nums[high]= nums[high], nums[i+1]\n",
    "    print(nums)\n",
    "    return i+1"
   ]
  },
  {
   "cell_type": "code",
   "execution_count": 47,
   "metadata": {},
   "outputs": [
    {
     "name": "stdout",
     "output_type": "stream",
     "text": [
      "[3, 2, 1, 5, 6, 4]\n",
      "[3, 2, 1, 4, 6, 5]\n",
      "ret: 3\n",
      "rank-1 : 4\n",
      "[3, 2, 1, 4, 6, 5]\n",
      "[3, 2, 1, 4, 5, 6]\n",
      "ret: 4\n",
      "rank-1 : 4\n"
     ]
    },
    {
     "data": {
      "text/plain": [
       "5"
      ]
     },
     "execution_count": 47,
     "metadata": {},
     "output_type": "execute_result"
    }
   ],
   "source": [
    "findKthLargest([3,2,1,5,6,4], 2)"
   ]
  },
  {
   "cell_type": "markdown",
   "metadata": {},
   "source": [
    "### Faster solution:"
   ]
  },
  {
   "cell_type": "code",
   "execution_count": 25,
   "metadata": {},
   "outputs": [],
   "source": [
    "def findKthLargest(nums, k):\n",
    "    \"\"\"\n",
    "    :type nums: List[int]\n",
    "    :type k: int\n",
    "    :rtype: int\n",
    "    \"\"\"\n",
    "    start, end, rank = 0, len(nums)-1, len(nums)-(k-1)\n",
    "    #random.shuffle(nums)\n",
    "    while start <= end:\n",
    "        ret = partition(nums, start, end)\n",
    "        if ret == rank - 1:\n",
    "            return nums[ret]\n",
    "        elif ret < rank - 1:\n",
    "            start = ret + 1\n",
    "        else:\n",
    "            end = ret - 1\n",
    "\n",
    "def partition(nums, start, end):\n",
    "    pivot = start\n",
    "\n",
    "    while start < end:\n",
    "        while nums[end] > nums[pivot] and end > start:\n",
    "            #print('end:',end)\n",
    "            end -= 1\n",
    "        \n",
    "        #print(nums[pivot])\n",
    "        while nums[start] <= nums[pivot] and start < end:\n",
    "            #print('start:', start)\n",
    "            start += 1\n",
    "            \n",
    "        print('start : ', start)\n",
    "        print('end :', end)\n",
    "        nums[start], nums[end] = nums[end], nums[start]\n",
    "\n",
    "    nums[pivot], nums[start] = nums[start], nums[pivot]\n",
    "\n",
    "    return start"
   ]
  },
  {
   "cell_type": "code",
   "execution_count": 26,
   "metadata": {},
   "outputs": [
    {
     "name": "stdout",
     "output_type": "stream",
     "text": [
      "start :  2\n",
      "end : 2\n",
      "start :  4\n",
      "end : 5\n",
      "start :  4\n",
      "end : 4\n"
     ]
    },
    {
     "data": {
      "text/plain": [
       "5"
      ]
     },
     "execution_count": 26,
     "metadata": {},
     "output_type": "execute_result"
    }
   ],
   "source": [
    "findKthLargest([3,2,1,5,6,4], 2)"
   ]
  },
  {
   "cell_type": "code",
   "execution_count": null,
   "metadata": {},
   "outputs": [],
   "source": []
  }
 ],
 "metadata": {
  "kernelspec": {
   "display_name": "Python 3",
   "language": "python",
   "name": "python3"
  },
  "language_info": {
   "codemirror_mode": {
    "name": "ipython",
    "version": 3
   },
   "file_extension": ".py",
   "mimetype": "text/x-python",
   "name": "python",
   "nbconvert_exporter": "python",
   "pygments_lexer": "ipython3",
   "version": "3.5.4"
  }
 },
 "nbformat": 4,
 "nbformat_minor": 2
}
