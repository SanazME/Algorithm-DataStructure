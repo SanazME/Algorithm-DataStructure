{
 "cells": [
  {
   "cell_type": "markdown",
   "metadata": {},
   "source": [
    "## Linked lists:\n",
    "https://bradfieldcs.com/algos/lists/introduction/\n",
    "\n",
    "#### Some **unordered list** ADT properties:\n",
    "(for simplicity assume linked lists don't have duplicate value)\n",
    "- List()\n",
    "- size()\n",
    "- is_empty()\n",
    "- pop()\n",
    "- pop(pos)\n",
    "- add(item)\n",
    "- append(item)\n",
    "- insert(pos, item)\n",
    "- index(item)\n",
    "- search(item) : return a bool\n",
    "- remove(item)\n",
    "\n",
    "#### Node class:"
   ]
  },
  {
   "cell_type": "code",
   "execution_count": 1,
   "metadata": {},
   "outputs": [],
   "source": [
    "class Node(object):\n",
    "    \"\"\" Node class for a linked list\"\"\"\n",
    "    def __init__(self, data):\n",
    "        self.data = data\n",
    "        self.next = None"
   ]
  },
  {
   "cell_type": "code",
   "execution_count": 2,
   "metadata": {},
   "outputs": [
    {
     "data": {
      "text/plain": [
       "93"
      ]
     },
     "execution_count": 2,
     "metadata": {},
     "output_type": "execute_result"
    }
   ],
   "source": [
    "temp = Node(93)\n",
    "temp.data"
   ]
  },
  {
   "cell_type": "markdown",
   "metadata": {},
   "source": [
    "#### Unordered linked list:\n",
    "An unordered linked list will be a collection of nodes, each linked to the next by explicit references.An unordered linked list class must maintain a single reference to the head of the list.\n",
    "\n",
    " It is important to note that the list class itself does not contain any node objects. Instead it contains a single reference to only the first node in the linked structure.\n",
    " \n",
    "the linked list structure provides us with only one entry point, the head of the list. All of the other nodes can only be reached by accessing the first node and then following next links. This means that the easiest place to add the new node is right at the head, or beginning, of the list. "
   ]
  },
  {
   "cell_type": "code",
   "execution_count": 5,
   "metadata": {},
   "outputs": [],
   "source": [
    "class UnorderedList(object):\n",
    "    def __init__(self):\n",
    "        self.head=None\n",
    "    \n",
    "    def is_empty(self):\n",
    "        return self.head is None\n",
    "    \n",
    "    def add(self, item):\n",
    "        if not isinstance(item, Node):\n",
    "            item = Node(item)\n",
    "        \n",
    "        if self.is_empty():\n",
    "            self.head = item\n",
    "            item.next = None\n",
    "        else:\n",
    "            item.next = self.head\n",
    "            self.head = item\n",
    "    \n",
    "    def size(self):\n",
    "        count = 0\n",
    "        current = self.head\n",
    "        \n",
    "        while current:\n",
    "            count+=1\n",
    "            current = current.next\n",
    "        return count\n",
    "    \n",
    "    def search(self,item):\n",
    "        current = self.head\n",
    "        \n",
    "        while current:\n",
    "            if current.data == item:\n",
    "                return True\n",
    "            else:\n",
    "                current = current.next\n",
    "        return False\n",
    "    \n",
    "    def print_items(self):\n",
    "        current = self.head\n",
    "        \n",
    "        if self.is_empty():\n",
    "            raise Exception(\"List is empty\")\n",
    "        else:\n",
    "            while current:\n",
    "                print(current.data)\n",
    "                current = current.next\n",
    "    \n",
    "    def remove(self,item):\n",
    "        current = self.head\n",
    "        previous = None\n",
    "        \n",
    "        while True:\n",
    "            \n",
    "            if current.data == item:\n",
    "                break\n",
    "            previous, current = current, current.next\n",
    "        \n",
    "        if previous is None:\n",
    "            self.head = current.next\n",
    "        else:\n",
    "            previous.next = current.next\n",
    "            \n",
    "    def remove2(self,item):\n",
    "        \n",
    "        current = self.head\n",
    "        previous = None\n",
    "        \n",
    "        if self.is_empty():\n",
    "            raise Exception(\"List is empty!\")\n",
    "        \n",
    "        while current:\n",
    "            if current.data==item:\n",
    "                break\n",
    "            previous, current = current, current.next\n",
    "            \n",
    "        if current is None:\n",
    "            print(\"None!\")\n",
    "            return\n",
    "        \n",
    "        if previous is None:\n",
    "            self.head = self.head.next\n",
    "        else:\n",
    "            previous.next = current.next\n",
    "             \n",
    "              \n",
    "            \n",
    "    def append(self,item):\n",
    "        if not isinstance(item, Node):\n",
    "            item = Node(item)\n",
    "            \n",
    "        current = self.head\n",
    "        \n",
    "        if current is None:\n",
    "            self.head = item\n",
    "            item.next = None\n",
    "        else:\n",
    "            while current:\n",
    "                previous = current\n",
    "                current = current.next\n",
    "                #print(current.data)\n",
    "            \n",
    "            previous.next = item\n",
    "            item.next = None\n",
    "            \n",
    "    def append2(self, item):\n",
    "        item = Node(item)      \n",
    "        current = self.head\n",
    "        previous = None      \n",
    "        while current:\n",
    "            previous, current = current, current.next\n",
    "        \n",
    "        if previous is None:\n",
    "            self.head = item\n",
    "        else:\n",
    "            previous.next = item\n",
    "            \n",
    "        item.next = None  \n",
    "        \n",
    "    def insert(self, pos, item):\n",
    "        item = Node(item)\n",
    "        i = 0\n",
    "        current = self.head\n",
    "        previous = None\n",
    "                   \n",
    "        if self.is_empty():\n",
    "            self.head = item\n",
    "            item.next = None\n",
    "        else:\n",
    "            assert(self.size()-1>= pos), \"The posistion is outside of List size\"\n",
    "            #if self.size()-1 < pos:\n",
    "            #    raise IndexError\n",
    "        \n",
    "            while current:\n",
    "                if i == pos:\n",
    "                    break\n",
    "                else:\n",
    "                    previous, current = current, current.next\n",
    "                    i+=1\n",
    "                    \n",
    "            if previous is None:\n",
    "                item.next = self.head\n",
    "                self.head = item\n",
    "            else:\n",
    "                item.next = current\n",
    "                previous.next = item\n",
    "          \n",
    "    def index(self,item):\n",
    "        current = self.head\n",
    "        i = 0        \n",
    "        if self.is_empty():\n",
    "            raise Exception(\"The list is empty\")\n",
    "            \n",
    "        while current:\n",
    "            if current.data == item:\n",
    "                return i\n",
    "            current = current.next\n",
    "            i+=1\n",
    "        raise Exception(\"Item does not exist in the list!\") \n",
    "                       \n",
    "    def pop(self,pos):\n",
    "        current = self.head\n",
    "        previous = None\n",
    "        i= 0\n",
    "        \n",
    "        assert(self.size() > 0), \"The list is empty\"\n",
    "        \n",
    "        while current:\n",
    "            if i == pos:\n",
    "                break\n",
    "            previous, current = current, current.next\n",
    "            i += 1\n",
    "        \n",
    "        if previous is None:\n",
    "            popped = self.head\n",
    "            self.head = self.head.next\n",
    "        else:\n",
    "            popped = current\n",
    "            previous.next = current.next\n",
    "        \n",
    "        return popped.data"
   ]
  },
  {
   "cell_type": "code",
   "execution_count": 7,
   "metadata": {},
   "outputs": [
    {
     "data": {
      "text/plain": [
       "4"
      ]
     },
     "execution_count": 7,
     "metadata": {},
     "output_type": "execute_result"
    }
   ],
   "source": [
    "mylist = UnorderedList()\n",
    "mylist.add(31)\n",
    "mylist.add(77)\n",
    "mylist.add(17)\n",
    "mylist.add(93)\n",
    "\n",
    "mylist.size()"
   ]
  },
  {
   "cell_type": "code",
   "execution_count": 8,
   "metadata": {},
   "outputs": [
    {
     "name": "stdout",
     "output_type": "stream",
     "text": [
      "93\n",
      "17\n",
      "31\n"
     ]
    },
    {
     "data": {
      "text/plain": [
       "3"
      ]
     },
     "execution_count": 8,
     "metadata": {},
     "output_type": "execute_result"
    }
   ],
   "source": [
    "mylist.remove2(77)\n",
    "mylist.print_items()\n",
    "mylist.size()"
   ]
  },
  {
   "cell_type": "code",
   "execution_count": 9,
   "metadata": {},
   "outputs": [
    {
     "name": "stdout",
     "output_type": "stream",
     "text": [
      "93\n",
      "17\n",
      "31\n"
     ]
    }
   ],
   "source": [
    "mylist.print_items()"
   ]
  },
  {
   "cell_type": "code",
   "execution_count": 10,
   "metadata": {},
   "outputs": [
    {
     "data": {
      "text/plain": [
       "False"
      ]
     },
     "execution_count": 10,
     "metadata": {},
     "output_type": "execute_result"
    }
   ],
   "source": [
    "mylist.search(95)"
   ]
  },
  {
   "cell_type": "code",
   "execution_count": 11,
   "metadata": {},
   "outputs": [
    {
     "name": "stdout",
     "output_type": "stream",
     "text": [
      "None!\n",
      "93\n",
      "17\n",
      "31\n"
     ]
    },
    {
     "data": {
      "text/plain": [
       "3"
      ]
     },
     "execution_count": 11,
     "metadata": {},
     "output_type": "execute_result"
    }
   ],
   "source": [
    "mylist.remove2(77)\n",
    "mylist.print_items()\n",
    "mylist.size()"
   ]
  },
  {
   "cell_type": "markdown",
   "metadata": {},
   "source": [
    "### Ordered List:\n"
   ]
  },
  {
   "cell_type": "code",
   "execution_count": 12,
   "metadata": {},
   "outputs": [],
   "source": [
    "class OrderedList(UnorderedList):\n",
    "    def search (self, item):\n",
    "        current = self.head\n",
    "        \n",
    "        while current:\n",
    "            if current.data == item:\n",
    "                return True\n",
    "            if current.data > item:\n",
    "                return False\n",
    "            current = current.next\n",
    "            \n",
    "        return False\n",
    "      \n",
    "        \n",
    "    def add(self,item):\n",
    "        current = self.head\n",
    "        previous = None\n",
    "        \n",
    "        if not isinstance(item, Node):\n",
    "            item = Node(item)\n",
    "        \n",
    "        if self.is_empty():\n",
    "            self.head = item\n",
    "            item.next = None\n",
    "        else:\n",
    "            while current:\n",
    "                if current.data > item:\n",
    "                    break\n",
    "                previous, current = current, current.next\n",
    "            if previous is None:\n",
    "                item.next = self.head\n",
    "                self.head = item\n",
    "            else:\n",
    "                item.next = current\n",
    "                previous.next = item\n",
    "            "
   ]
  },
  {
   "cell_type": "code",
   "execution_count": 13,
   "metadata": {},
   "outputs": [
    {
     "data": {
      "text/plain": [
       "False"
      ]
     },
     "execution_count": 13,
     "metadata": {},
     "output_type": "execute_result"
    }
   ],
   "source": [
    "orlist = OrderedList()\n",
    "orlist.search(45)"
   ]
  },
  {
   "cell_type": "markdown",
   "metadata": {},
   "source": [
    "### big-O analysis of linked lists:\n",
    "- insertion/deletion in linked list is O(1). But the search for that index is O(n). One you have the pointer to the node in which you want to do the insertion or deletion, there is a fixed cost.\n",
    "\n",
    "** Difference between linked list and arrays:**\n",
    "\n",
    "**Arrays limitations:**\n",
    "1. The size of the arrays is fixed and we need to know the upper limit of the array irrespective of the usage and number of elements. The memory allocation is equal to the upper limit irrespective of the usage. In dynamic arrays the expansion if amotized.\n",
    "\n",
    "2. Inserting(and deletion) a new element in an array is expensive because a new room has be created for the new element and the existing elements have to be shifted.\n",
    "\n",
    "** Advantage of linked lists:**\n",
    "1. Dynamic size\n",
    "2. Insertion and deletion O(1) - but search for the index is O(n)\n",
    "\n",
    "** Drawback of linked lists:**\n",
    "1. Random access is not an option. we have to access elements sequentially. Memory allocation in linked lists is dynamic and not contiguous. SO we cannot do **binary search** in linked lists.\n",
    "\n",
    "1.1. Accessing an element in an array is fast. Accessing into an index.\n",
    "\n",
    "2. Extra memory space for a pointer/reference is required for each Node in the linked list\n",
    "\n",
    "3. Not cache friendly, since the array elements are contiguous locations, there is locality of reference.\n",
    "\n"
   ]
  },
  {
   "cell_type": "code",
   "execution_count": 14,
   "metadata": {},
   "outputs": [
    {
     "name": "stdout",
     "output_type": "stream",
     "text": [
      "2\n"
     ]
    }
   ],
   "source": [
    "for i in range(2,3):\n",
    "    print(i)"
   ]
  },
  {
   "cell_type": "markdown",
   "metadata": {},
   "source": [
    "### Recursion:\n",
    "\n",
    "**Given an integer, create a function which returns the sum of all the individual digits in that integer. For example:\n",
    "if n = 4321, return 4+3+2+1**"
   ]
  },
  {
   "cell_type": "code",
   "execution_count": 15,
   "metadata": {},
   "outputs": [],
   "source": [
    "def sum_fac(n):\n",
    "    \n",
    "    # Base case\n",
    "    if n//10==0:\n",
    "        return n\n",
    "    \n",
    "    #Recursive part\n",
    "    else:\n",
    "        return n%10 + sum_fac(n//10)"
   ]
  },
  {
   "cell_type": "code",
   "execution_count": 16,
   "metadata": {},
   "outputs": [
    {
     "data": {
      "text/plain": [
       "6"
      ]
     },
     "execution_count": 16,
     "metadata": {},
     "output_type": "execute_result"
    }
   ],
   "source": [
    "sum_fac(312)"
   ]
  },
  {
   "cell_type": "markdown",
   "metadata": {},
   "source": [
    "________\n",
    "### Problem 3\n",
    "*Note, this is a more advanced problem than the previous two! It aso has a lot of variation possibilities and we're ignoring strict requirements here.*\n",
    "\n",
    "Create a function called word_split() which takes in a string **phrase** and a set **list_of_words**. The function will then determine if it is possible to split the string in a way in which words can be made from the list of words. You can assume the phrase will only contain words found in the dictionary if it is completely splittable.\n",
    "\n",
    "For example:"
   ]
  },
  {
   "cell_type": "code",
   "execution_count": 19,
   "metadata": {},
   "outputs": [
    {
     "data": {
      "text/plain": [
       "['the', 'man', 'ran']"
      ]
     },
     "execution_count": 19,
     "metadata": {},
     "output_type": "execute_result"
    }
   ],
   "source": [
    "word_split('themanran',['the','ran','man'])"
   ]
  },
  {
   "cell_type": "code",
   "execution_count": 20,
   "metadata": {},
   "outputs": [
    {
     "data": {
      "text/plain": [
       "['i', 'love', 'dogs', 'John']"
      ]
     },
     "execution_count": 20,
     "metadata": {},
     "output_type": "execute_result"
    }
   ],
   "source": [
    "word_split('ilovedogsJohn',['i','am','a','dogs','lover','love','John'])"
   ]
  },
  {
   "cell_type": "code",
   "execution_count": 21,
   "metadata": {},
   "outputs": [
    {
     "data": {
      "text/plain": [
       "[]"
      ]
     },
     "execution_count": 21,
     "metadata": {},
     "output_type": "execute_result"
    }
   ],
   "source": [
    "word_split('themanran',['clown','ran','man'])"
   ]
  },
  {
   "cell_type": "code",
   "execution_count": 18,
   "metadata": {},
   "outputs": [],
   "source": [
    "# Recustion version with restriction that the order of words in the list is similar to the order of \n",
    "# words in the phrase:\n",
    "\n",
    "def word_split(phrase,list_of_words, output = None):\n",
    "    \n",
    "    # If we set output=[] in each recusion it will be reset!\n",
    "    if output is None:\n",
    "        output=[]\n",
    "    \n",
    "    \n",
    "    # For every word in list\n",
    "    for word in list_of_words:\n",
    "        \n",
    "        # if the current phrase begins with word, we have a splitting point\n",
    "        if phrase.startswith(word):\n",
    "            output.append(word)\n",
    "        \n",
    "            # Recursively call the split function on the remaining portion of the phrase--- phrase[len(word):]\n",
    "            # Remember to pass along the output and list of words\n",
    "            return word_split(phrase[len(word):], list_of_words, output)\n",
    "    \n",
    "    # Finally return output if no phrase.startswith(word) returns True\n",
    "    return output"
   ]
  },
  {
   "cell_type": "code",
   "execution_count": null,
   "metadata": {},
   "outputs": [],
   "source": []
  }
 ],
 "metadata": {
  "kernelspec": {
   "display_name": "Python 3",
   "language": "python",
   "name": "python3"
  },
  "language_info": {
   "codemirror_mode": {
    "name": "ipython",
    "version": 3
   },
   "file_extension": ".py",
   "mimetype": "text/x-python",
   "name": "python",
   "nbconvert_exporter": "python",
   "pygments_lexer": "ipython3",
   "version": "3.7.3"
  }
 },
 "nbformat": 4,
 "nbformat_minor": 4
}
