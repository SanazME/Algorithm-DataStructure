{
 "cells": [
  {
   "cell_type": "markdown",
   "metadata": {},
   "source": [
    "### Find the middle element of a linked list\n",
    "\n",
    "**Naive solution**\n",
    "\n",
    "A simple way to determine the middle node would be to fully pass through all nodes in the linked list and count how many elements there are in total. Then traverse the linked list again this time stopping at the total/2 node. For example, the first time you traverse the linked list your program determines there are 10 nodes, then the second pass through the linked list you stop at the 5th node, which is the middle node. This is a possible solution, but there is a faster way.\n",
    "\n",
    "**Faster solution using 2 pointers**\n",
    "\n",
    "What we'll do is setup two pointers, one that will traverse the linked list one node at a time, and the other pointer will traverse two nodes at a time. This way when the faster pointer reaches the end of the linked list, the slower pointer will be halfway there because it was only moving one node at time while the faster one was moving two nodes at a time. This allows you to find the middle node of a linked list with only one pass, instead of passing through the whole linked list once, and then again to find the middle element.\n"
   ]
  },
  {
   "cell_type": "code",
   "execution_count": 90,
   "metadata": {},
   "outputs": [],
   "source": [
    "class Node(object):\n",
    "    def __init__(self,value):\n",
    "        self.value = value\n",
    "        self.next = None"
   ]
  },
  {
   "cell_type": "code",
   "execution_count": 5,
   "metadata": {},
   "outputs": [],
   "source": [
    "n1 = Node(\"hello\")\n",
    "n1.next = None\n",
    "n2 = Node(\"21\")\n",
    "n2.next = n1\n",
    "n3 = Node(\"Green\")\n",
    "n3.next = n2"
   ]
  },
  {
   "cell_type": "markdown",
   "metadata": {},
   "source": [
    "Find the middle node in the list:"
   ]
  },
  {
   "cell_type": "code",
   "execution_count": 2,
   "metadata": {},
   "outputs": [],
   "source": [
    "class LinkedList():\n",
    "    def __init__(self):\n",
    "        self.head = None\n",
    "    \n",
    "    def add(self,item):\n",
    "        if not isinstance(item, Node):\n",
    "            item = Node(item)\n",
    "            \n",
    "        if self.is_empty():\n",
    "            self.head = item\n",
    "            item.next = None\n",
    "            \n",
    "        else:\n",
    "            item.next = self.head            \n",
    "            self.head = item\n",
    "                        \n",
    "    def append(self,item):\n",
    "        item = Node(item)\n",
    "        if self.is_empty():\n",
    "            self.head = item\n",
    "        else:\n",
    "            current = self.head\n",
    "            while current.next:\n",
    "                current = current.next\n",
    "            current.next = item\n",
    "            item.next = None\n",
    "    \n",
    "    def size(self):\n",
    "        count = 0\n",
    "        if self.is_empty():\n",
    "            return count\n",
    "        else:\n",
    "            current = self.head\n",
    "            while current:\n",
    "                count += 1\n",
    "                current = current.next\n",
    "            return count\n",
    "        \n",
    "    def is_empty(self):\n",
    "        return self.head is None\n",
    "    \n",
    "    def print_items(self):\n",
    "        if self.is_empty():\n",
    "            return None\n",
    "        else:\n",
    "            current = self.head\n",
    "            while current:\n",
    "                print(current.value)\n",
    "                current = current.next\n",
    "    \n",
    "    def middle_node(self):\n",
    "        if self.is_empty():\n",
    "            return None\n",
    "        else:\n",
    "            marker_slow = self.head\n",
    "            marker_fast = self.head\n",
    "            \n",
    "            while marker_fast.next != None and marker_fast.next.next != None:\n",
    "                marker_slow, marker_fast = marker_slow.next, marker_fast.next.next\n",
    "            \n",
    "            return marker_slow.value\n",
    "    \n"
   ]
  },
  {
   "cell_type": "code",
   "execution_count": 3,
   "metadata": {},
   "outputs": [],
   "source": [
    "L1 = LinkedList()\n",
    "L1.add(\"Hello\")\n",
    "L1.add(\"21\")\n",
    "L1.add(\"Green\")\n",
    "L1.add(45)\n",
    "L1.add(\"True\")"
   ]
  },
  {
   "cell_type": "code",
   "execution_count": 4,
   "metadata": {},
   "outputs": [
    {
     "data": {
      "text/plain": [
       "'Green'"
      ]
     },
     "execution_count": 4,
     "metadata": {},
     "output_type": "execute_result"
    }
   ],
   "source": [
    "L1.middle_node()"
   ]
  },
  {
   "cell_type": "markdown",
   "metadata": {},
   "source": [
    "### Merge two sorted linked lists\n",
    "This is a common interview question testing basic knowledge of linked lists. The goal here is merge two linked lists that are already sorted. \n",
    "\n",
    "For example: if L1 = 1 -> 3 -> 10 and L2 = 5 -> 6 -> 9 then your program should output the linked list \n",
    "1 -> 3 -> 5 -> 6 -> 9 -> 10.\n"
   ]
  },
  {
   "cell_type": "code",
   "execution_count": 41,
   "metadata": {},
   "outputs": [],
   "source": [
    "def merge_linked_lists(L1,L2):\n",
    "    if L1.is_empty():\n",
    "        return L2\n",
    "    if L2.is_empty():\n",
    "        return L1\n",
    "    \n",
    "    marker1 = L1.head\n",
    "    marker2 = L2.head\n",
    "    \n",
    "    output = LinkedList()\n",
    "    \n",
    "    while marker1 and marker2:\n",
    "        \n",
    "        if marker1.value >= marker2.value:\n",
    "            output.append(marker2.value)\n",
    "            marker2 = marker2.next\n",
    "        else:\n",
    "            output.append(marker1.value)\n",
    "            marker1 = marker1.next\n",
    "                        \n",
    "    if marker1 is None:\n",
    "        while marker2:\n",
    "            output.append(marker2.value)\n",
    "            marker2.next = marker2\n",
    "    if marker2 is None:\n",
    "        while marker1:\n",
    "            output.append(marker1.value)\n",
    "            marker1 = marker1.next\n",
    "    return output  "
   ]
  },
  {
   "cell_type": "code",
   "execution_count": 42,
   "metadata": {},
   "outputs": [
    {
     "data": {
      "text/plain": [
       "False"
      ]
     },
     "execution_count": 42,
     "metadata": {},
     "output_type": "execute_result"
    }
   ],
   "source": [
    "L1 = LinkedList()\n",
    "L1.add(10)\n",
    "L1.add(3)\n",
    "L1.add(1)\n",
    "L1.head is None"
   ]
  },
  {
   "cell_type": "code",
   "execution_count": 43,
   "metadata": {},
   "outputs": [],
   "source": [
    "L2=LinkedList()\n",
    "L2.add(9)\n",
    "L2.add(6)\n",
    "L2.add(5)"
   ]
  },
  {
   "cell_type": "code",
   "execution_count": 44,
   "metadata": {},
   "outputs": [
    {
     "name": "stdout",
     "output_type": "stream",
     "text": [
      "1\n",
      "3\n",
      "5\n",
      "6\n",
      "9\n",
      "10\n"
     ]
    }
   ],
   "source": [
    "L_out = merge_linked_lists(L1,L2)\n",
    "L_out.print_items()"
   ]
  },
  {
   "cell_type": "markdown",
   "metadata": {},
   "source": [
    "### Another way:\n"
   ]
  },
  {
   "cell_type": "code",
   "execution_count": 91,
   "metadata": {},
   "outputs": [],
   "source": [
    "n1 = Node(10)\n",
    "n1.next = None\n",
    "n2 = Node(3)\n",
    "n2.next = n1\n",
    "n3 = Node(1)\n",
    "n3.next = n2\n",
    "L1 = n3"
   ]
  },
  {
   "cell_type": "code",
   "execution_count": 92,
   "metadata": {},
   "outputs": [],
   "source": [
    "n1 = Node(9)\n",
    "n1.next = None\n",
    "n2 = Node(6)\n",
    "n2.next = n1\n",
    "n3 = Node(5)\n",
    "n3.next = n2\n",
    "L2 = n3"
   ]
  },
  {
   "cell_type": "code",
   "execution_count": 99,
   "metadata": {},
   "outputs": [],
   "source": [
    "def merge_linked_lists(L1,L2):\n",
    "    \n",
    "    L3 = Node(None)\n",
    "    \n",
    "    while L1 != None and L2 != None:\n",
    "        if L1.value <= L2.value:\n",
    "            print('L3', L3.value)\n",
    "            L3.next = L1\n",
    "            L1 = L1.next\n",
    "        else:\n",
    "            print('L3', L3.value)\n",
    "            L3.next = L2\n",
    "            L2 = L2.next\n",
    "    if L1 == None:\n",
    "        print('L3', L3.value)\n",
    "        L3.next = L2\n",
    "    elif L2 == None:\n",
    "        print('L3', L3.value)\n",
    "        L3.next = L1\n",
    "\n",
    "    return L3"
   ]
  },
  {
   "cell_type": "code",
   "execution_count": 100,
   "metadata": {},
   "outputs": [
    {
     "name": "stdout",
     "output_type": "stream",
     "text": [
      "L3 None\n",
      "L3 None\n",
      "L3 None\n",
      "L3 None\n",
      "L3 None\n",
      "L3 None\n",
      "None ->\n",
      "10 ->\n"
     ]
    }
   ],
   "source": [
    "out = merge_linked_lists(L1,L2)\n",
    "\n",
    "while out != None:\n",
    "    print(out.value, '->')\n",
    "    out = out.next"
   ]
  },
  {
   "cell_type": "code",
   "execution_count": 87,
   "metadata": {},
   "outputs": [
    {
     "name": "stdout",
     "output_type": "stream",
     "text": [
      "L1 :  1\n",
      "L2 : 5\n",
      "L1 :  3\n",
      "L2 : 5\n",
      "L1 :  10\n",
      "L2 : 5\n",
      "L1 :  10\n",
      "L2 : 6\n",
      "L1 :  10\n",
      "L2 : 9\n",
      "10 -> \n",
      "None\n"
     ]
    }
   ],
   "source": [
    "merged = merge_linked_lists(L1, L2)\n",
    "while merged != None:\n",
    "    print (str(merged.value) + ' -> ')\n",
    "    merged = merged.next\n",
    "print ('None')"
   ]
  },
  {
   "cell_type": "code",
   "execution_count": null,
   "metadata": {},
   "outputs": [],
   "source": []
  },
  {
   "cell_type": "code",
   "execution_count": null,
   "metadata": {},
   "outputs": [],
   "source": []
  },
  {
   "cell_type": "code",
   "execution_count": 103,
   "metadata": {},
   "outputs": [
    {
     "name": "stdout",
     "output_type": "stream",
     "text": [
      "5 -> \n",
      "6 -> \n",
      "9 -> \n",
      "10 -> \n",
      "None\n"
     ]
    }
   ],
   "source": [
    "class Node:\n",
    "    def __init__(self, data, next):\n",
    "        self.data = data\n",
    "        self.next = next   \n",
    "    \n",
    "def merge(L1, L2):\n",
    "    # create new linked list pointer\n",
    "    L3 = Node(None, None)\n",
    "    prev = L3\n",
    "\n",
    "    # while both linked lists are not empty\n",
    "    while L1 != None and L2 != None:\n",
    "        if L1.data <= L2.data:\n",
    "            prev.next = L1\n",
    "            L1 = L1.next\n",
    "        else:\n",
    "            prev.next = L2\n",
    "            L2 = L2.next\t\n",
    "            prev = prev.next\n",
    "\n",
    "      # once we reach end of a linked list, append the other \n",
    "      # list because we know it is already sorted\n",
    "    if L1 == None:\n",
    "        prev.next = L2\n",
    "    elif L2 == None:\n",
    "        prev.next = L1\n",
    "\n",
    "    return L3.next\n",
    "\n",
    "# create first linked list: 1 -> 3 -> 10\n",
    "n3 = Node(10, None)\n",
    "n2 = Node(3, n3)\n",
    "n1 = Node(1, n2)\n",
    "L1 = n1\n",
    "\n",
    "# create second linked list: 5 -> 6 -> 9\n",
    "n6 = Node(9, None)\n",
    "n5 = Node(6, n6)\n",
    "n4 = Node(5, n5)\n",
    "L2 = n4\n",
    "\n",
    "# print the linked list\n",
    "merged = merge(L1, L2)\n",
    "while merged != None:\n",
    "    print (str(merged.data) + ' -> ')\n",
    "    merged = merged.next\n",
    "print ('None')"
   ]
  },
  {
   "cell_type": "code",
   "execution_count": null,
   "metadata": {},
   "outputs": [],
   "source": []
  },
  {
   "cell_type": "code",
   "execution_count": null,
   "metadata": {},
   "outputs": [],
   "source": []
  }
 ],
 "metadata": {
  "kernelspec": {
   "display_name": "Python 3",
   "language": "python",
   "name": "python3"
  },
  "language_info": {
   "codemirror_mode": {
    "name": "ipython",
    "version": 3
   },
   "file_extension": ".py",
   "mimetype": "text/x-python",
   "name": "python",
   "nbconvert_exporter": "python",
   "pygments_lexer": "ipython3",
   "version": "3.5.4"
  }
 },
 "nbformat": 4,
 "nbformat_minor": 2
}
