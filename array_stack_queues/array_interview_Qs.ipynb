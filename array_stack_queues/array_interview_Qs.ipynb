{
 "cells": [
  {
   "cell_type": "markdown",
   "metadata": {},
   "source": [
    "### Find all duplicates in an array in linear time (v1)\n",
    "This is a common interview question where you need to write a program to find all duplicates in an array where the numbers in the array are in the range of 0 to n-1 where n is the size of the array. For example: [1, 2, 3, 3] is okay but [1, 2, 6, 3] is not. In this version of the challenge there can be multiple duplicate numbers as well."
   ]
  },
  {
   "cell_type": "code",
   "execution_count": 3,
   "metadata": {},
   "outputs": [],
   "source": [
    "def duplicate(arr):\n",
    "    dic = {}\n",
    "    duplicate = []\n",
    "    for item in arr:\n",
    "        if item in dic.keys():\n",
    "            dic[item] += 1\n",
    "            duplicate.append(item)\n",
    "        else:\n",
    "            dic[item]=0\n",
    "    return duplicate\n",
    "        "
   ]
  },
  {
   "cell_type": "code",
   "execution_count": 4,
   "metadata": {},
   "outputs": [
    {
     "data": {
      "text/plain": [
       "[2, 1]"
      ]
     },
     "execution_count": 4,
     "metadata": {},
     "output_type": "execute_result"
    }
   ],
   "source": [
    "duplicate([1, 2, 2, 3, 1])"
   ]
  },
  {
   "cell_type": "markdown",
   "metadata": {},
   "source": [
    "### How to remove a stack item which is not on the top of the stack:\n"
   ]
  },
  {
   "cell_type": "code",
   "execution_count": 77,
   "metadata": {},
   "outputs": [],
   "source": [
    "class Stack(object):\n",
    "    \n",
    "    def __init__(self):\n",
    "        self.items=[]\n",
    "        \n",
    "    def push(self,item):\n",
    "        return self.items.append(item)\n",
    "    \n",
    "    def peek(self):\n",
    "        return self.items[-1]\n",
    "        \n",
    "    def size(self):\n",
    "        return len(self.items)\n",
    "        \n",
    "    def remove(self,item):\n",
    "        \n",
    "        i=0\n",
    "        temp_list = [0]*(self.size()-1)\n",
    "        print(temp_list)\n",
    "        while i < self.size():\n",
    "            if self.items[i] == item:\n",
    "                #print(i)\n",
    "                temp_list[:i] = self.items[:i]\n",
    "                print(temp_list)\n",
    "                for j in range(i, self.size()-1):\n",
    "                    print('j is:',j)\n",
    "                    temp_list[j] = self.items[j+1]\n",
    "                    \n",
    "                self.items = temp_list\n",
    "                print(self.items)\n",
    "                return\n",
    "            i+=1\n",
    "               \n",
    "        print('Item is not in the stack')    "
   ]
  },
  {
   "cell_type": "code",
   "execution_count": 78,
   "metadata": {},
   "outputs": [
    {
     "name": "stdout",
     "output_type": "stream",
     "text": [
      "4\n"
     ]
    },
    {
     "data": {
      "text/plain": [
       "34"
      ]
     },
     "execution_count": 78,
     "metadata": {},
     "output_type": "execute_result"
    }
   ],
   "source": [
    "ll=Stack()\n",
    "ll.push(5)\n",
    "ll.push(4)\n",
    "ll.push(9)\n",
    "ll.push(34)\n",
    "\n",
    "print(ll.size())\n",
    "ll.peek()"
   ]
  },
  {
   "cell_type": "code",
   "execution_count": 79,
   "metadata": {},
   "outputs": [
    {
     "name": "stdout",
     "output_type": "stream",
     "text": [
      "[0, 0, 0]\n",
      "[5, 4, 0]\n",
      "j is: 2\n",
      "[5, 4, 34]\n"
     ]
    }
   ],
   "source": [
    "ll.remove(9)"
   ]
  },
  {
   "cell_type": "code",
   "execution_count": 80,
   "metadata": {},
   "outputs": [
    {
     "data": {
      "text/plain": [
       "3"
      ]
     },
     "execution_count": 80,
     "metadata": {},
     "output_type": "execute_result"
    }
   ],
   "source": [
    "ll.size()"
   ]
  },
  {
   "cell_type": "code",
   "execution_count": 81,
   "metadata": {},
   "outputs": [],
   "source": [
    "class Node(object):\n",
    "    def __init__(self,value):\n",
    "        self.value = value\n",
    "        self.next = None\n",
    "        \n"
   ]
  },
  {
   "cell_type": "code",
   "execution_count": 82,
   "metadata": {},
   "outputs": [],
   "source": [
    "def reverseLinkedList(head):\n",
    "    if head is None:\n",
    "        raise Exception(\"The list is empty!\")\n",
    "        \n",
    "    current = head\n",
    "    previous = None\n",
    "    nextNode = None\n",
    "    \n",
    "    while current:\n",
    "        nextNode = current.next\n",
    "        current.next = previous\n",
    "        \n",
    "        previous, current= current, nextNode\n",
    "    return previous"
   ]
  },
  {
   "cell_type": "code",
   "execution_count": 85,
   "metadata": {},
   "outputs": [],
   "source": [
    "def factorial(n, memo={}):\n",
    "    if n <= 1:\n",
    "        return 1\n",
    "    else:\n",
    "        if n not in memo:\n",
    "            memo[n] = n*factorial(n-1)\n",
    "        return memo[n]"
   ]
  },
  {
   "cell_type": "code",
   "execution_count": 86,
   "metadata": {},
   "outputs": [
    {
     "data": {
      "text/plain": [
       "120"
      ]
     },
     "execution_count": 86,
     "metadata": {},
     "output_type": "execute_result"
    }
   ],
   "source": [
    "factorial(5)"
   ]
  },
  {
   "cell_type": "code",
   "execution_count": 87,
   "metadata": {},
   "outputs": [],
   "source": [
    "def factorial_slow(n):\n",
    "    if n <= 1:\n",
    "        return 1\n",
    "    else:\n",
    "        return n*factorial(n-1)"
   ]
  },
  {
   "cell_type": "code",
   "execution_count": 88,
   "metadata": {},
   "outputs": [
    {
     "name": "stdout",
     "output_type": "stream",
     "text": [
      "815 ns ± 14.5 ns per loop (mean ± std. dev. of 7 runs, 1000000 loops each)\n"
     ]
    }
   ],
   "source": [
    "%timeit factorial_slow(8)"
   ]
  },
  {
   "cell_type": "code",
   "execution_count": 89,
   "metadata": {},
   "outputs": [
    {
     "name": "stdout",
     "output_type": "stream",
     "text": [
      "452 ns ± 3.21 ns per loop (mean ± std. dev. of 7 runs, 1000000 loops each)\n"
     ]
    }
   ],
   "source": [
    "%timeit factorial(8)"
   ]
  },
  {
   "cell_type": "code",
   "execution_count": null,
   "metadata": {},
   "outputs": [],
   "source": []
  }
 ],
 "metadata": {
  "kernelspec": {
   "display_name": "Python 3",
   "language": "python",
   "name": "python3"
  },
  "language_info": {
   "codemirror_mode": {
    "name": "ipython",
    "version": 3
   },
   "file_extension": ".py",
   "mimetype": "text/x-python",
   "name": "python",
   "nbconvert_exporter": "python",
   "pygments_lexer": "ipython3",
   "version": "3.5.4"
  }
 },
 "nbformat": 4,
 "nbformat_minor": 2
}
